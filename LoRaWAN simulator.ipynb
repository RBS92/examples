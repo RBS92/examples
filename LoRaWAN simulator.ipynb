{
 "cells": [
  {
   "cell_type": "code",
   "execution_count": 4,
   "metadata": {},
   "outputs": [
    {
     "name": "stdout",
     "output_type": "stream",
     "text": [
      "Requirement already satisfied: atpbar in c:\\programdata\\miniconda3\\lib\\site-packages (1.1.3)\n",
      "Requirement already satisfied: ipywidgets in c:\\programdata\\miniconda3\\lib\\site-packages (7.5.1)\n",
      "Requirement already satisfied: ipython>=4.0.0; python_version >= \"3.3\" in c:\\programdata\\miniconda3\\lib\\site-packages (from ipywidgets) (7.18.1)\n",
      "Requirement already satisfied: traitlets>=4.3.1 in c:\\programdata\\miniconda3\\lib\\site-packages (from ipywidgets) (5.0.4)\n",
      "Requirement already satisfied: nbformat>=4.2.0 in c:\\programdata\\miniconda3\\lib\\site-packages (from ipywidgets) (5.0.7)\n",
      "Requirement already satisfied: widgetsnbextension~=3.5.0 in c:\\programdata\\miniconda3\\lib\\site-packages (from ipywidgets) (3.5.1)\n",
      "Requirement already satisfied: ipykernel>=4.5.1 in c:\\programdata\\miniconda3\\lib\\site-packages (from ipywidgets) (5.3.4)\n",
      "Requirement already satisfied: setuptools>=18.5 in c:\\programdata\\miniconda3\\lib\\site-packages (from ipython>=4.0.0; python_version >= \"3.3\"->ipywidgets) (46.4.0.post20200518)\n",
      "Requirement already satisfied: colorama; sys_platform == \"win32\" in c:\\programdata\\miniconda3\\lib\\site-packages (from ipython>=4.0.0; python_version >= \"3.3\"->ipywidgets) (0.4.3)\n",
      "Requirement already satisfied: prompt-toolkit!=3.0.0,!=3.0.1,<3.1.0,>=2.0.0 in c:\\programdata\\miniconda3\\lib\\site-packages (from ipython>=4.0.0; python_version >= \"3.3\"->ipywidgets) (3.0.7)\n",
      "Requirement already satisfied: backcall in c:\\programdata\\miniconda3\\lib\\site-packages (from ipython>=4.0.0; python_version >= \"3.3\"->ipywidgets) (0.2.0)\n",
      "Requirement already satisfied: decorator in c:\\programdata\\miniconda3\\lib\\site-packages (from ipython>=4.0.0; python_version >= \"3.3\"->ipywidgets) (4.4.2)\n",
      "Requirement already satisfied: pickleshare in c:\\programdata\\miniconda3\\lib\\site-packages (from ipython>=4.0.0; python_version >= \"3.3\"->ipywidgets) (0.7.5)\n",
      "Requirement already satisfied: jedi>=0.10 in c:\\programdata\\miniconda3\\lib\\site-packages (from ipython>=4.0.0; python_version >= \"3.3\"->ipywidgets) (0.15.2)\n",
      "Requirement already satisfied: pygments in c:\\programdata\\miniconda3\\lib\\site-packages (from ipython>=4.0.0; python_version >= \"3.3\"->ipywidgets) (2.7.0)\n",
      "Requirement already satisfied: ipython-genutils in c:\\programdata\\miniconda3\\lib\\site-packages (from traitlets>=4.3.1->ipywidgets) (0.2.0)\n",
      "Requirement already satisfied: jsonschema!=2.5.0,>=2.4 in c:\\programdata\\miniconda3\\lib\\site-packages (from nbformat>=4.2.0->ipywidgets) (3.2.0)\n",
      "Requirement already satisfied: jupyter-core in c:\\programdata\\miniconda3\\lib\\site-packages (from nbformat>=4.2.0->ipywidgets) (4.6.3)\n",
      "Requirement already satisfied: notebook>=4.4.1 in c:\\programdata\\miniconda3\\lib\\site-packages (from widgetsnbextension~=3.5.0->ipywidgets) (6.1.4)\n",
      "Requirement already satisfied: jupyter-client in c:\\programdata\\miniconda3\\lib\\site-packages (from ipykernel>=4.5.1->ipywidgets) (6.1.7)\n",
      "Requirement already satisfied: tornado>=4.2 in c:\\programdata\\miniconda3\\lib\\site-packages (from ipykernel>=4.5.1->ipywidgets) (6.0.4)\n",
      "Requirement already satisfied: wcwidth in c:\\programdata\\miniconda3\\lib\\site-packages (from prompt-toolkit!=3.0.0,!=3.0.1,<3.1.0,>=2.0.0->ipython>=4.0.0; python_version >= \"3.3\"->ipywidgets) (0.2.5)\n",
      "Requirement already satisfied: parso>=0.5.2 in c:\\programdata\\miniconda3\\lib\\site-packages (from jedi>=0.10->ipython>=4.0.0; python_version >= \"3.3\"->ipywidgets) (0.5.2)\n",
      "Requirement already satisfied: attrs>=17.4.0 in c:\\programdata\\miniconda3\\lib\\site-packages (from jsonschema!=2.5.0,>=2.4->nbformat>=4.2.0->ipywidgets) (20.2.0)\n",
      "Requirement already satisfied: six>=1.11.0 in c:\\programdata\\miniconda3\\lib\\site-packages (from jsonschema!=2.5.0,>=2.4->nbformat>=4.2.0->ipywidgets) (1.14.0)\n",
      "Requirement already satisfied: pyrsistent>=0.14.0 in c:\\programdata\\miniconda3\\lib\\site-packages (from jsonschema!=2.5.0,>=2.4->nbformat>=4.2.0->ipywidgets) (0.17.3)\n",
      "Requirement already satisfied: pywin32>=1.0; sys_platform == \"win32\" in c:\\programdata\\miniconda3\\lib\\site-packages (from jupyter-core->nbformat>=4.2.0->ipywidgets) (227)\n",
      "Requirement already satisfied: Send2Trash in c:\\programdata\\miniconda3\\lib\\site-packages (from notebook>=4.4.1->widgetsnbextension~=3.5.0->ipywidgets) (1.5.0)\n",
      "Requirement already satisfied: terminado>=0.8.3 in c:\\programdata\\miniconda3\\lib\\site-packages (from notebook>=4.4.1->widgetsnbextension~=3.5.0->ipywidgets) (0.8.3)\n",
      "Requirement already satisfied: prometheus-client in c:\\programdata\\miniconda3\\lib\\site-packages (from notebook>=4.4.1->widgetsnbextension~=3.5.0->ipywidgets) (0.8.0)\n",
      "Requirement already satisfied: nbconvert in c:\\programdata\\miniconda3\\lib\\site-packages (from notebook>=4.4.1->widgetsnbextension~=3.5.0->ipywidgets) (6.0.2)\n",
      "Requirement already satisfied: jinja2 in c:\\programdata\\miniconda3\\lib\\site-packages (from notebook>=4.4.1->widgetsnbextension~=3.5.0->ipywidgets) (2.11.2)\n",
      "Requirement already satisfied: pyzmq>=17 in c:\\programdata\\miniconda3\\lib\\site-packages (from notebook>=4.4.1->widgetsnbextension~=3.5.0->ipywidgets) (19.0.2)\n",
      "Requirement already satisfied: argon2-cffi in c:\\programdata\\miniconda3\\lib\\site-packages (from notebook>=4.4.1->widgetsnbextension~=3.5.0->ipywidgets) (20.1.0)\n",
      "Requirement already satisfied: python-dateutil>=2.1 in c:\\programdata\\miniconda3\\lib\\site-packages (from jupyter-client->ipykernel>=4.5.1->ipywidgets) (2.8.1)\n",
      "Requirement already satisfied: testpath in c:\\programdata\\miniconda3\\lib\\site-packages (from nbconvert->notebook>=4.4.1->widgetsnbextension~=3.5.0->ipywidgets) (0.4.4)\n",
      "Requirement already satisfied: jupyterlab-pygments in c:\\programdata\\miniconda3\\lib\\site-packages (from nbconvert->notebook>=4.4.1->widgetsnbextension~=3.5.0->ipywidgets) (0.1.1)\n",
      "Requirement already satisfied: pandocfilters>=1.4.1 in c:\\programdata\\miniconda3\\lib\\site-packages (from nbconvert->notebook>=4.4.1->widgetsnbextension~=3.5.0->ipywidgets) (1.4.2)\n",
      "Requirement already satisfied: defusedxml in c:\\programdata\\miniconda3\\lib\\site-packages (from nbconvert->notebook>=4.4.1->widgetsnbextension~=3.5.0->ipywidgets) (0.6.0)\n",
      "Requirement already satisfied: entrypoints>=0.2.2 in c:\\programdata\\miniconda3\\lib\\site-packages (from nbconvert->notebook>=4.4.1->widgetsnbextension~=3.5.0->ipywidgets) (0.3)\n",
      "Requirement already satisfied: nbclient<0.6.0,>=0.5.0 in c:\\programdata\\miniconda3\\lib\\site-packages (from nbconvert->notebook>=4.4.1->widgetsnbextension~=3.5.0->ipywidgets) (0.5.0)\n",
      "Requirement already satisfied: mistune<2,>=0.8.1 in c:\\programdata\\miniconda3\\lib\\site-packages (from nbconvert->notebook>=4.4.1->widgetsnbextension~=3.5.0->ipywidgets) (0.8.4)\n",
      "Requirement already satisfied: bleach in c:\\programdata\\miniconda3\\lib\\site-packages (from nbconvert->notebook>=4.4.1->widgetsnbextension~=3.5.0->ipywidgets) (3.1.5)\n",
      "Requirement already satisfied: MarkupSafe>=0.23 in c:\\programdata\\miniconda3\\lib\\site-packages (from jinja2->notebook>=4.4.1->widgetsnbextension~=3.5.0->ipywidgets) (1.1.1)\n",
      "Requirement already satisfied: cffi>=1.0.0 in c:\\programdata\\miniconda3\\lib\\site-packages (from argon2-cffi->notebook>=4.4.1->widgetsnbextension~=3.5.0->ipywidgets) (1.14.0)\n",
      "Requirement already satisfied: nest-asyncio in c:\\programdata\\miniconda3\\lib\\site-packages (from nbclient<0.6.0,>=0.5.0->nbconvert->notebook>=4.4.1->widgetsnbextension~=3.5.0->ipywidgets) (1.4.0)\n",
      "Requirement already satisfied: async-generator in c:\\programdata\\miniconda3\\lib\\site-packages (from nbclient<0.6.0,>=0.5.0->nbconvert->notebook>=4.4.1->widgetsnbextension~=3.5.0->ipywidgets) (1.10)\n",
      "Requirement already satisfied: packaging in c:\\programdata\\miniconda3\\lib\\site-packages (from bleach->nbconvert->notebook>=4.4.1->widgetsnbextension~=3.5.0->ipywidgets) (20.4)\n",
      "Requirement already satisfied: webencodings in c:\\programdata\\miniconda3\\lib\\site-packages (from bleach->nbconvert->notebook>=4.4.1->widgetsnbextension~=3.5.0->ipywidgets) (0.5.1)\n",
      "Requirement already satisfied: pycparser in c:\\programdata\\miniconda3\\lib\\site-packages (from cffi>=1.0.0->argon2-cffi->notebook>=4.4.1->widgetsnbextension~=3.5.0->ipywidgets) (2.20)\n",
      "Requirement already satisfied: pyparsing>=2.0.2 in c:\\programdata\\miniconda3\\lib\\site-packages (from packaging->bleach->nbconvert->notebook>=4.4.1->widgetsnbextension~=3.5.0->ipywidgets) (2.4.7)\n",
      "Requirement already satisfied: nodejs in c:\\programdata\\miniconda3\\lib\\site-packages (0.1.1)\n",
      "Requirement already satisfied: optional-django==0.1.0 in c:\\programdata\\miniconda3\\lib\\site-packages (from nodejs) (0.1.0)\n"
     ]
    },
    {
     "name": "stdout",
     "output_type": "stream",
     "text": [
      "Requirement already satisfied: numpy in c:\\programdata\\miniconda3\\lib\\site-packages (1.19.2)\n",
      "Collecting matplotlib\n",
      "  Downloading matplotlib-3.3.2-cp38-cp38-win_amd64.whl (8.5 MB)\n",
      "Collecting cycler>=0.10\n",
      "  Downloading cycler-0.10.0-py2.py3-none-any.whl (6.5 kB)\n",
      "Collecting pillow>=6.2.0\n",
      "  Downloading Pillow-7.2.0-cp38-cp38-win_amd64.whl (2.1 MB)\n",
      "Requirement already satisfied: certifi>=2020.06.20 in c:\\programdata\\miniconda3\\lib\\site-packages (from matplotlib) (2020.6.20)\n",
      "Requirement already satisfied: pyparsing!=2.0.4,!=2.1.2,!=2.1.6,>=2.0.3 in c:\\programdata\\miniconda3\\lib\\site-packages (from matplotlib) (2.4.7)\n",
      "Collecting kiwisolver>=1.0.1\n",
      "  Downloading kiwisolver-1.2.0-cp38-none-win_amd64.whl (58 kB)\n",
      "Requirement already satisfied: numpy>=1.15 in c:\\programdata\\miniconda3\\lib\\site-packages (from matplotlib) (1.19.2)\n",
      "Requirement already satisfied: python-dateutil>=2.1 in c:\\programdata\\miniconda3\\lib\\site-packages (from matplotlib) (2.8.1)\n",
      "Requirement already satisfied: six in c:\\programdata\\miniconda3\\lib\\site-packages (from cycler>=0.10->matplotlib) (1.14.0)\n",
      "Installing collected packages: cycler, pillow, kiwisolver, matplotlib\n",
      "Successfully installed cycler-0.10.0 kiwisolver-1.2.0 matplotlib-3.3.2 pillow-7.2.0\n",
      "-----------------------\n",
      "LoRa simulator V 1.02\n",
      "Author: René Brandborg Sørensen\n",
      "Email1: rbs@es.aau.dk\n",
      "Email2: madwarRBS@gmail.com\n",
      "-----------------------\n",
      "Features:\n",
      "+ indicates integrated features\n",
      "- indicates possible extensions\n",
      "-----------------------\n",
      "Uplink transmission: \n",
      "+Aggregated duty-cycling\n",
      "+Regulatory duty-cycling\n",
      "+Co-SF and Inter-SF interference \n",
      "+AP demodulation paths paths \n",
      "+Packet fragmentation\n",
      "+Acknowledgements\n",
      "-----------------------\n",
      "Downlink transmission: \n",
      "+Scheduled DL tx\n",
      "-Packet fragmentation\n",
      "+Receive window 1 and 2\n",
      "+Class A and C\n",
      "-Acknowledgements\n",
      "-----------------------\n"
     ]
    }
   ],
   "source": [
    "# !pip install atpbar\n",
    "# !pip install ipywidgets \n",
    "# !pip install nodejs\n",
    "# !pip install numpy\n",
    "# !pip install matplotlib\n",
    "import numpy as np\n",
    "import numpy.matlib\n",
    "import random\n",
    "from heapq import merge\n",
    "import math as m\n",
    "import matplotlib.pyplot as plt\n",
    "import matplotlib.lines as mlines\n",
    "import matplotlib\n",
    "from atpbar import atpbar\n",
    "from itertools import groupby\n",
    "import sys\n",
    "old_stdout = sys.stdout\n",
    "sys.stdout = open('stdout.txt', 'w')\n",
    "sys.stdout = old_stdout\n",
    "# import matlab\n",
    "\n",
    "print('-----------------------')\n",
    "print('LoRa simulator V 1.02')\n",
    "print('Author: René Brandborg Sørensen')\n",
    "print('Email1: rbs@es.aau.dk')\n",
    "print('Email2: madwarRBS@gmail.com')\n",
    "print('-----------------------')\n",
    "print('Features:')\n",
    "print('+ indicates integrated features')\n",
    "print('- indicates possible extensions')\n",
    "print('-----------------------')\n",
    "print('Uplink transmission: ')\n",
    "print('+Aggregated duty-cycling')\n",
    "print('+Regulatory duty-cycling')\n",
    "print('+Co-SF and Inter-SF interference ')\n",
    "print('+AP demodulation paths paths ')\n",
    "print('+Packet fragmentation')\n",
    "print('+Acknowledgements')\n",
    "print('-----------------------')\n",
    "print('Downlink transmission: ')\n",
    "print('+Scheduled DL tx')\n",
    "print('-Packet fragmentation')\n",
    "print('+Receive window 1 and 2')\n",
    "print('+Class A and C')\n",
    "print('-Acknowledgements')\n",
    "print('-----------------------')"
   ]
  },
  {
   "cell_type": "code",
   "execution_count": 738,
   "metadata": {},
   "outputs": [
    {
     "name": "stdout",
     "output_type": "stream",
     "text": [
      "Parameters loaded\n"
     ]
    }
   ],
   "source": [
    "def len_iter(items):\n",
    "    return sum(1 for _ in items)\n",
    "\n",
    "def consecutive_one(data):\n",
    "    try:\n",
    "        a = max(len_iter(run) for val, run in groupby(data) if val)\n",
    "    except:\n",
    "        a = 0\n",
    "    return a\n",
    "\n",
    "def db2pow(xdb):\n",
    "    \"\"\"Convert decibels (dB) to power\n",
    "\n",
    "    .. doctest::\n",
    "\n",
    "        >>> p = db2pow(-10)\n",
    "        >>> p\n",
    "        0.1\n",
    "\n",
    "    .. seealso:: :func:`pow2db`\n",
    "    \"\"\"\n",
    "    try:\n",
    "        res = 10.**(xdb/10.)\n",
    "    except:\n",
    "        res = [10.**(i/10.) for i in xdb]    \n",
    "    return res\n",
    "\n",
    "def pow2db(xpow):\n",
    "    \"\"\"Convert decibels (dB) to power\n",
    "\n",
    "    .. doctest::\n",
    "        >>> import math as m\n",
    "        >>> db = pow2db(.1)\n",
    "        >>> db\n",
    "        -10\n",
    "\n",
    "    .. seealso:: :func:`db2pow`\n",
    "    \"\"\"\n",
    "    try:\n",
    "        res = m.log10(xpow)*10\n",
    "    except:\n",
    "        res = [m.log10(i)*10 for i in xdb]    \n",
    "    return res\n",
    "\n",
    "\n",
    "#### Parameters ####\n",
    "class params:\n",
    "    \"\"\"\n",
    "    Parameters for the Simulation\n",
    "    \"\"\"\n",
    "    def __init__(self):\n",
    "        1\n",
    "    \n",
    "    maxReports = 20\n",
    "    queueLength = 0\n",
    "    REPS = 10\n",
    "    simulationLen = 3600*2 # simulation length in seconds\n",
    "\n",
    "    class system:\n",
    "        M = 1000 # number of devices\n",
    "        A = 5 # Number of access points\n",
    "        cellRadius = 1000 # cell radius in meters\n",
    "        r = [0,1] # adefault UL subbands\n",
    "        rAP = [4] # default DL subband\n",
    "        APdmodpaths = 8\n",
    "        devdmodpaths = 1\n",
    "        centeredAP = 1\n",
    "        rdmAPuniform = 0\n",
    "        distSF=0\n",
    "        rdmSFuni=1\n",
    "    \n",
    "    class modules:\n",
    "        capture = 1\n",
    "        ULDL_SIC = 0 # DL interfers with UL\n",
    "    \n",
    "    class traffic:\n",
    "        periodic = 0 # indicates that the traffic is quasi-peridic\n",
    "        offset = 1\n",
    "        jitter = 0\n",
    "        \n",
    "        poisson = 1 # indicates that the traffic is poisson-type\n",
    "        lambdaD = 1/(60*10) # arrival rate for a single device\n",
    "        \n",
    "        exception = 0 # indicates that the traffic is exception-type\n",
    "        alpha = 3\n",
    "        beta = 4\n",
    "        period = 5*60 # alarm periodi n secs\n",
    "        \n",
    "        payload = [40, 40, 40, 40, 40, 40] # Payload in bytes for different SFs\n",
    "        nTX = 1 # no. transmission attempts\n",
    "        lSF = []\n",
    "    \n",
    "    class channel:\n",
    "        alpha = 4\n",
    "        raygain = 1\n",
    "        noisePower = 0 \n",
    "        \n",
    "    class lora:\n",
    "        M = [i for i in range(7,12+1)] # spreading factors\n",
    "        N = [222, 222, 115, 51, 51, 51] # Max no. payload bytes per transmission for each SF\n",
    "        overhead = 8 # bytes of LoRaMAC overhead\n",
    "        npreamble = 8 # symbols in preamble\n",
    "        fragments = []\n",
    "        modulos = []\n",
    "        \n",
    "        \n",
    "        CR = 1 # coding rate\n",
    "        DE = [0,0,0,0,1,1] # data rate optimization\n",
    "        \n",
    "        fc = 868 # Carrier frequency in hertz\n",
    "        BW = 125*10**3 # Channel bandwidth in hertz\n",
    "        chs = [5, 3, 2, 1, 1] # channels in sub-bands (max is 8 channels, max per band is [15, 3, 2, 1, 1])\n",
    "        d = [0.01, 0.01, 0.001, 0.1, 1] # duty-cycle of sub-bands\n",
    "        \n",
    "        dev_P0 = db2pow(14-30) # tx power\n",
    "        AP_P0 = db2pow(14-30) # tx power\n",
    "        NF = 0 # noise figure in dB\n",
    "        \n",
    "        \n",
    "        gamma_co = db2pow([6, 6, 6, 6, 6, 6]) # SF co_interference capture thresholds\n",
    "        gamma_int = db2pow([-7.5,-9,-13.5,-15,-18,-22.5]) # SF inter_interference capture thresholds\n",
    "        gamma_rx = db2pow([-6, -9, -12, -15, -17.5, -20]) # SF capture thresholds (smallest SNR)\n",
    "        rxSens = db2pow(np.array([-126.5, -129, -131.5, -134, -136.5, -139.5])-30) # Reception sensitivity (smallest power)\n",
    "        # rxSens = db2pow([-123, -126, -129, -132, -134.5, -137]-30)\n",
    "        # rxSens = db2pow([-126.5, -129, -131.5, -134, -136.5, -139.5]-30)\n",
    "        \n",
    "        \n",
    "Parameters = params()\n",
    "# Parameters.traffic.payload = [223, 223, 116, 52, 52, 52] # [222, 222, 115, 51, 51, 51]\n",
    "Parameters.queueLength = Parameters.maxReports\n",
    "Parameters.lora.fragments = [min(np.ceil(Parameters.traffic.payload[i]/Parameters.lora.N[i]),1) for i in range(0,len(Parameters.lora.M))]\n",
    "Parameters.lora.modulos = [np.mod(Parameters.traffic.payload[i],Parameters.lora.N[i]) for i in range(0,len(Parameters.lora.M))]\n",
    "Parameters.channel.noisePower = db2pow((-174 + Parameters.lora.NF + 10*m.log10(Parameters.lora.BW))-30)\n",
    "Parameters.lora.tSymbol = [2**SF/Parameters.lora.BW for SF in Parameters.lora.M] #tx time for symbols\n",
    "Parameters.lora.tPreamble = [(Parameters.lora.npreamble+4.25)*tS for tS in Parameters.lora.tSymbol]\n",
    "\n",
    "\n",
    "# Spreading Factor Allocation\n",
    "Parameters.traffic.lSF = [0]\n",
    "Parameters.traffic.lSF.extend([((Parameters.lora.dev_P0*((Parameters.lora.fc**2)*10**(-2.8))**(-1))/i)**(1/Parameters.channel.alpha) for i in Parameters.lora.rxSens] )\n",
    "Parameters.traffic.lSF = Parameters.traffic.lSF/max(Parameters.traffic.lSF)*Parameters.system.cellRadius\n",
    "\n",
    "if(sum([Parameters.lora.chs[i] for i in Parameters.system.r])>8):\n",
    "    print('AP can not handle more than 8 channels')\n",
    "print('Parameters loaded')\n",
    "\n",
    "# Define UE and AP structs\n",
    "class subband:\n",
    "    def __init__(self,local_parameters,sidx,i):\n",
    "        self.channels = local_parameters.lora.chs[sidx[i]]\n",
    "        self.dutycycle = local_parameters.lora.d[sidx[i]]\n",
    "        self.txs = 0\n",
    "        self.extrawork = 0\n",
    "        self.queueLen = 0\n",
    "        self.timeleft = 0\n",
    "\n",
    "class UE:\n",
    "    def __init__(self,local_parameters):\n",
    "#         numberUEs = local_parameters.system.M;\n",
    "        numberAPs = local_parameters.system.A;\n",
    "        sidx = local_parameters.system.r\n",
    "        \n",
    "        self.r = sidx\n",
    "        # system\n",
    "        self.SB = [subband(local_parameters,sidx,i) for i in range(0,len(sidx))]\n",
    "        self.demodpaths = local_parameters.system.devdmodpaths\n",
    "        self.demodQ = 0\n",
    "        self.aggDutycycle = 1\n",
    "        self.TXpow = local_parameters.lora.dev_P0\n",
    "        self.dist = np.zeros((1,numberAPs))\n",
    "        self.pos = [0,0]\n",
    "        self.pow = local_parameters.lora.dev_P0\n",
    "        self.SF = 0\n",
    "        self.RECEIVE_DELAY1 = 1\n",
    "        self.RECEIVE_DELAY2 = 2\n",
    "        self.RX1DROffset = 0\n",
    "        self.RX2DR = 12\n",
    "        \n",
    "        # reporting\n",
    "        self.reportIndex = 0\n",
    "        self.reportNFragments = np.zeros(local_parameters.maxReports)\n",
    "        self.reportNTX = np.zeros((int(max(local_parameters.lora.fragments)),local_parameters.maxReports))\n",
    "        self.reportArrival = np.zeros((1,local_parameters.maxReports))\n",
    "        self.reportArrivalType = np.matlib.repmat('N',1,local_parameters.maxReports)\n",
    "        self.nextTX = 0\n",
    "        self.reportSubband = -1*np.ones((local_parameters.traffic.nTX,int(max(local_parameters.lora.fragments)),local_parameters.maxReports))\n",
    "        self.reportChannel = -1*np.ones((local_parameters.traffic.nTX,int(max(local_parameters.lora.fragments)),local_parameters.maxReports))\n",
    "        self.reportDebug = -1*np.ones((local_parameters.traffic.nTX,int(max(local_parameters.lora.fragments)),local_parameters.maxReports))\n",
    "        self.reportModulos = np.zeros(local_parameters.maxReports)\n",
    "        \n",
    "        \n",
    "        self.reportCapture = [[[[] for _ in range(0,local_parameters.traffic.nTX)] for _ in range(0,int(max(local_parameters.lora.fragments)))] for _ in range(0,local_parameters.maxReports)]\n",
    "        self.reportSucces = [[[[] for _ in range(0,local_parameters.traffic.nTX)] for _ in range(0,int(max(local_parameters.lora.fragments)))] for _ in range(0,local_parameters.maxReports)]\n",
    "        self.reportFailSnr = [[[[] for _ in range(0,local_parameters.traffic.nTX)] for _ in range(0,int(max(local_parameters.lora.fragments)))] for _ in range(0,local_parameters.maxReports)]\n",
    "        self.reportFailCoInt = [[[[] for _ in range(0,local_parameters.traffic.nTX)] for _ in range(0,int(max(local_parameters.lora.fragments)))] for _ in range(0,local_parameters.maxReports)]\n",
    "        self.reportFailInterInt = [[[[] for _ in range(0,local_parameters.traffic.nTX)] for _ in range(0,int(max(local_parameters.lora.fragments)))] for _ in range(0,local_parameters.maxReports)]\n",
    "        self.reportFailDemod = [[[[] for _ in range(0,local_parameters.traffic.nTX)] for _ in range(0,int(max(local_parameters.lora.fragments)))] for _ in range(0,local_parameters.maxReports)]\n",
    "        self.reportFailSens = [[[[] for _ in range(0,local_parameters.traffic.nTX)] for _ in range(0,int(max(local_parameters.lora.fragments)))] for _ in range(0,local_parameters.maxReports)]\n",
    "        \n",
    "        self.reportPreSucces = [[[[] for _ in range(0,local_parameters.traffic.nTX)] for _ in range(0,int(max(local_parameters.lora.fragments)))] for _ in range(0,local_parameters.maxReports)]\n",
    "        self.reportPreFailCap = [[[[] for _ in range(0,local_parameters.traffic.nTX)] for _ in range(0,int(max(local_parameters.lora.fragments)))] for _ in range(0,local_parameters.maxReports)]\n",
    "        self.reportPreFailSnr = [[[[] for _ in range(0,local_parameters.traffic.nTX)] for _ in range(0,int(max(local_parameters.lora.fragments)))] for _ in range(0,local_parameters.maxReports)]\n",
    "        self.reportPreFailCoInt = [[[[] for _ in range(0,local_parameters.traffic.nTX)] for _ in range(0,int(max(local_parameters.lora.fragments)))] for _ in range(0,local_parameters.maxReports)]\n",
    "        self.reportPreFailInterInt = [[[[] for _ in range(0,local_parameters.traffic.nTX)] for _ in range(0,int(max(local_parameters.lora.fragments)))] for _ in range(0,local_parameters.maxReports)]\n",
    "        self.reportPreFailJointInt = [[[[] for _ in range(0,local_parameters.traffic.nTX)] for _ in range(0,int(max(local_parameters.lora.fragments)))] for _ in range(0,local_parameters.maxReports)]\n",
    "        self.reportPreFailDemod = [[[[] for _ in range(0,local_parameters.traffic.nTX)] for _ in range(0,int(max(local_parameters.lora.fragments)))] for _ in range(0,local_parameters.maxReports)]\n",
    "#         self.reportFade = np.zeros((local_parameters.traffic.nTX,int(max(local_parameters.lora.fragments)),local_parameters.maxReports,numberAPs))\n",
    "#     \n",
    "#     \n",
    "#     reportFragments = ones(1,Params.maxReports)\n",
    "#     reportModulos = zeros(1,Params.maxReports)\n",
    "#     reportFade = zeros(Params.traffic.nTX,max(Params.lora.fragments),Params.maxReports,numberAPs)\n",
    "    \n",
    "#     reportStart = zeros(Params.traffic.nTX,max(Params.lora.fragments),Params.maxReports,numberAPs)\n",
    "#     reportFailSens = zeros(Params.traffic.nTX,max(Params.lora.fragments),Params.maxReports,numberAPs)\n",
    "#     reportFailCoInt = zeros(Params.traffic.nTX,max(Params.lora.fragments),Params.maxReports,numberAPs)\n",
    "#     reportFailInterInt = zeros(Params.traffic.nTX,max(Params.lora.fragments),Params.maxReports,numberAPs)\n",
    "#     reportFailDemod = zeros(Params.traffic.nTX,max(Params.lora.fragments),Params.maxReports,numberAPs)\n",
    "#     reportAggDelay = zeros(Params.traffic.nTX,max(Params.lora.fragments),Params.maxReports,numberAPs)\n",
    "#     reportRegDelay = zeros(Params.traffic.nTX,max(Params.lora.fragments),Params.maxReports,numberAPs)\n",
    "#     reportDebug = -ones(Params.traffic.nTX,max(Params.lora.fragments),Params.maxReports,numberAPs)\n",
    "#     nTX = zeros(1,Params.maxReports)\n",
    "#     reportFinal = zeros(1,Params.maxReports)\n",
    "#     reportDL = zeros(Params.traffic.nTX,max(Params.lora.fragments),Params.maxReports,numberAPs)\n",
    "#     reportDLtime = zeros(Params.traffic.nTX,max(Params.lora.fragments),Params.maxReports,numberAPs)\n",
    "#     reportDlFragments = zeros(Params.traffic.nTX,max(Params.lora.fragments),Params.maxReports,numberAPs)\n",
    "#     reportDlModulos = zeros(Params.traffic.nTX,max(Params.lora.fragments),Params.maxReports,numberAPs)\n",
    "#     reportDlSucces = zeros(Params.traffic.nTX,max(Params.lora.fragments),Params.maxReports,numberAPs)\n",
    "#     reportDlFailSens = zeros(Params.traffic.nTX,max(Params.lora.fragments),Params.maxReports,numberAPs)\n",
    "#     reportDlFailCoInt = zeros(Params.traffic.nTX,max(Params.lora.fragments),Params.maxReports,numberAPs)\n",
    "#     reportDlFailInterInt = zeros(Params.traffic.nTX,max(Params.lora.fragments),Params.maxReports,numberAPs)\n",
    "#     reportDlRXW = zeros(Params.traffic.nTX,max(Params.lora.fragments),Params.maxReports,numberAPs)\n",
    "#     reportAck = zeros(Params.traffic.nTX,max(Params.lora.fragments),Params.maxReports,numberAPs)\n",
    "#     RX2bandch = [5, 1]\n",
    "#     RECEIVE_DELAY1 = 1\n",
    "#     RECEIVE_DELAY2 = 2\n",
    "#     RX1DROffset = 0\n",
    "#     RX2DR = 12\n",
    "#     \n",
    "#     \n",
    "#     SB = repmat(subband,1,5)\n",
    "#     aggWait = 0\n",
    "#     pos = [0,0]\n",
    "#     dist = zeros(1,numberAPs)\n",
    "#     PL = zeros(1,numberAPs)\n",
    "#     TXpow = Params.lora.P0\n",
    "#     Dclass = 'a'\n",
    "#     ack = 0\n",
    "#     mainAP = 0\n",
    "#     SF = 0\n",
    "\n",
    "class AP:\n",
    "\n",
    "    def __init__(self,local_parameters):\n",
    "#         numberUEs = local_parameters.system.M;\n",
    "#         numberAPs = local_parameters.system.A;\n",
    "        self.demodpaths = local_parameters.system.APdmodpaths\n",
    "        self.TXpow = local_parameters.lora.AP_P0\n",
    "        self.r = local_parameters.system.rAP\n",
    "        sbs = list(set(local_parameters.system.r) | set(local_parameters.system.rAP))\n",
    "        self.SB = [subband(local_parameters,sbs,i) for i in range(0,len(sbs))]\n",
    "        \n",
    "        # reporting\n",
    "        self.reportIndex = 0\n",
    "        self.reportuID = np.zeros(local_parameters.maxReports)\n",
    "        self.reportNFragments = np.zeros(local_parameters.maxReports)\n",
    "        self.reportNTX = np.zeros((int(max(local_parameters.lora.fragments)),local_parameters.maxReports))\n",
    "        self.reportArrival = np.zeros((1,local_parameters.maxReports))\n",
    "        self.reportArrivalType = np.matlib.repmat('N',1,local_parameters.maxReports)\n",
    "        self.nextTX = 0\n",
    "        self.reportSubband = -1*np.ones((local_parameters.traffic.nTX,int(max(local_parameters.lora.fragments)),local_parameters.maxReports))\n",
    "        self.reportChannel = -1*np.ones((local_parameters.traffic.nTX,int(max(local_parameters.lora.fragments)),local_parameters.maxReports))\n",
    "        self.reportDebug = -1*np.ones((local_parameters.traffic.nTX,int(max(local_parameters.lora.fragments)),local_parameters.maxReports))\n",
    "        self.reportModulos = np.zeros(local_parameters.maxReports)\n",
    "        \n",
    "        self.demodQ = 0\n",
    "        self.pos = [0,0]\n",
    "        self.pow = local_parameters.lora.AP_P0\n",
    "        \n",
    "        self.reportSucces = [[[[] for _ in range(0,local_parameters.traffic.nTX)] for _ in range(0,int(max(local_parameters.lora.fragments)))] for _ in range(0,local_parameters.maxReports)]\n",
    "        self.reportFailSnr = [[[[] for _ in range(0,local_parameters.traffic.nTX)] for _ in range(0,int(max(local_parameters.lora.fragments)))] for _ in range(0,local_parameters.maxReports)]\n",
    "        self.reportFailCoInt = [[[[] for _ in range(0,local_parameters.traffic.nTX)] for _ in range(0,int(max(local_parameters.lora.fragments)))] for _ in range(0,local_parameters.maxReports)]\n",
    "        self.reportFailInterInt = [[[[] for _ in range(0,local_parameters.traffic.nTX)] for _ in range(0,int(max(local_parameters.lora.fragments)))] for _ in range(0,local_parameters.maxReports)]\n",
    "        self.reportFailDemod = [[[[] for _ in range(0,local_parameters.traffic.nTX)] for _ in range(0,int(max(local_parameters.lora.fragments)))] for _ in range(0,local_parameters.maxReports)]\n",
    "        \n",
    "        self.reportPreSucces = [[[[] for _ in range(0,local_parameters.traffic.nTX)] for _ in range(0,int(max(local_parameters.lora.fragments)))] for _ in range(0,local_parameters.maxReports)]\n",
    "        self.reportFailSens = [[[[] for _ in range(0,local_parameters.traffic.nTX)] for _ in range(0,int(max(local_parameters.lora.fragments)))] for _ in range(0,local_parameters.maxReports)]\n",
    "        self.reportPreFailSnr = [[[[] for _ in range(0,local_parameters.traffic.nTX)] for _ in range(0,int(max(local_parameters.lora.fragments)))] for _ in range(0,local_parameters.maxReports)]\n",
    "        self.reportPreFailCoInt = [[[[] for _ in range(0,local_parameters.traffic.nTX)] for _ in range(0,int(max(local_parameters.lora.fragments)))] for _ in range(0,local_parameters.maxReports)]\n",
    "        self.reportPreFailInterInt = [[[[] for _ in range(0,local_parameters.traffic.nTX)] for _ in range(0,int(max(local_parameters.lora.fragments)))] for _ in range(0,local_parameters.maxReports)]\n",
    "        self.reportPreFailJointInt = [[[[] for _ in range(0,local_parameters.traffic.nTX)] for _ in range(0,int(max(local_parameters.lora.fragments)))] for _ in range(0,local_parameters.maxReports)]\n",
    "        self.reportPreFailDemod = [[[[] for _ in range(0,local_parameters.traffic.nTX)] for _ in range(0,int(max(local_parameters.lora.fragments)))] for _ in range(0,local_parameters.maxReports)]\n",
    "    \n",
    "# a = AP(Parameters)\n",
    "# print(a.SB[2].channels)\n",
    "    "
   ]
  },
  {
   "cell_type": "code",
   "execution_count": 663,
   "metadata": {},
   "outputs": [
    {
     "name": "stdout",
     "output_type": "stream",
     "text": [
      "[0.251188643150958, 0.12589254117941673, 0.06309573444801933, 0.03162277660168379, 0.01778279410038923, 0.01]\n",
      "600.0\n"
     ]
    },
    {
     "data": {
      "image/png": "[encoded data removed]",
      "text/plain": [
       "<matplotlib.figure.Figure at 0x204d3ff0668>"
      ]
     },
     "metadata": {},
     "output_type": "display_data"
    }
   ],
   "source": [
    "# gamma_co \n",
    "# gamma_int\n",
    "print(Parameters.lora.gamma_rx)\n",
    "print(1/Parameters.traffic.lambdaD)\n",
    "plt.figure()\n",
    "distances = ([i for j in UEs for i in j.reportChannel[0][0]])\n",
    "y,x = np.histogram(distances,25)\n",
    "plt.bar(x[0:-1]+(x[1]-x[0])/2,y/sum(y),width=(x[1]-x[0]))\n",
    "plt.show()"
   ]
  },
  {
   "cell_type": "code",
   "execution_count": 345,
   "metadata": {
    "collapsed": true
   },
   "outputs": [],
   "source": [
    "def SpatialModel_uni(radiusCell,N):\n",
    "\n",
    "    angles = np.random.rand(1,N)*2*np.pi\n",
    "    radius = np.sqrt(radiusCell**2*(np.random.rand(1,N)))\n",
    "    x = radius*np.cos(angles)\n",
    "    y = radius*np.sin(angles)\n",
    "    p = [x, y]\n",
    "\n",
    "    return p\n",
    "\n",
    "# plt.figure()\n",
    "# x = SpatialModel_uni(100,10)\n",
    "# plt.scatter(x[0],x[1])\n",
    "# print(x)\n",
    "# plt.show()\n",
    "\n",
    "\n",
    "def generateTraffic(local_parameters):\n",
    "    numberUEs = local_parameters.system.M\n",
    "    numberAPs = local_parameters.system.A\n",
    "    \n",
    "    UEs = [UE(local_parameters) for i in range(0,numberUEs)]\n",
    "    \n",
    "    # set AP positions\n",
    "    if(Parameters.system.rdmAPuniform):\n",
    "        APs = [AP(local_parameters) for i in range(0,numberAPs)]\n",
    "        posAPs = SpatialModel_uni(Parameters.system.cellRadius,numberAPs)\n",
    "        for i in range(0,numberAPs):\n",
    "            APs[i].pos = [posAPs[0][0][i],posAPs[1][0][i]]\n",
    "    elif(Parameters.system.centeredAP):\n",
    "        APs = [AP(local_parameters) for i in range(0,1)]\n",
    "        APs[0].pos = [0,0]\n",
    "        \n",
    "\n",
    "    validatedArrivals1 = []\n",
    "    typeOfArrivals1 = []    \n",
    "    if(local_parameters.traffic.periodic):\n",
    "        print('not implemented')\n",
    "\n",
    "    validatedArrivals2 = []\n",
    "    typeOfArrivals2 = []\n",
    "    if(local_parameters.traffic.poisson):\n",
    "        arrivals = np.random.exponential(1/local_parameters.traffic.lambdaD,(numberUEs, local_parameters.maxReports))\n",
    "        arrivalsSFN = np.cumsum(arrivals, 1)\n",
    "        for j in arrivalsSFN:\n",
    "            validatedArrivals2.append([i for i in j if (i <= local_parameters.simulationLen) ])\n",
    "            typeOfArrivals2.append(['e' for i in j if (i <= local_parameters.simulationLen)])\n",
    "    \n",
    "#     print(validatedArrivals2)\n",
    "    \n",
    "    validatedArrivals3 = []\n",
    "    typeOfArrivals3 = []\n",
    "    if(local_parameters.traffic.exception):\n",
    "        betaArrival = np.round((np.random.beta(local_parameters.traffic.alpha,local_parameters.traffic.beta,(numberUEs,1))*local_parameters.traffic.period+local_parameters.traffic.offset)/local_parameters.system.tdma)\n",
    "        validatedArrivals3 = betaArrival;\n",
    "        typeOfArrivals3[i] = ['b'  if validatedArrivals3[i] else typeOfArrivals3[i] for i in range(0,len(validatedArrivals3))]\n",
    "    \n",
    "    \n",
    "    validatedArrivals = [] #validatedArrivals1+validatedArrivals2+validatedArrivals3\n",
    "    typeOfArrivals = [] #typeOfArrivals1+typeOfArrivals2+typeOfArrivals3\n",
    "    for i in range(0,numberUEs):\n",
    "        bufArrivals = (validatedArrivals2[i] + validatedArrivals3)\n",
    "        bufTypes = (typeOfArrivals2[i] + typeOfArrivals3)\n",
    "        \n",
    "        if(bufArrivals):\n",
    "            temp = sorted(zip(bufTypes, bufArrivals), key=lambda x: len(x[0]))\n",
    "            bufTypes, bufArrivals = map(list, zip(*temp))\n",
    "#         print(bufArrivals)\n",
    "        validatedArrivals.append(bufArrivals)\n",
    "        typeOfArrivals.append(bufTypes)\n",
    "    \n",
    "#     modulos = Parameters.lora.fragment\n",
    "    \n",
    "    posUEs = SpatialModel_uni(Parameters.system.cellRadius,numberUEs)\n",
    "    for i in range(0,numberUEs):\n",
    "        UEs[i].pos = [posUEs[0][0][i],posUEs[1][0][i]]\n",
    "        \n",
    "        r = [np.sqrt(np.sum(([abs(UEs[i].pos[k]-APs[j].pos[k])**2 for k in range(0,len(UEs[i].pos))]))) for j in range(0,numberAPs)]\n",
    "        UEs[i].dist = r\n",
    "        UEs[i].PL = [((local_parameters.lora.fc**2)*10**(-2.8))**(-1)/(r[j]**local_parameters.channel.alpha) for j in range(0,numberAPs)]\n",
    "        \n",
    "        if (local_parameters.system.distSF):\n",
    "            rmin = min(UEs[i].dist)\n",
    "#             print(rmin)\n",
    "            UEs[i].mainAP = [j for j in range(0,numberAPs) if UEs[i].dist[j] == rmin]\n",
    "            buf = [j for j in range(0,len(local_parameters.traffic.lSF)) if rmin <= local_parameters.traffic.lSF[j]]\n",
    "#             print(buf)\n",
    "            if(buf):\n",
    "                UEs[i].SF = buf[0]+int(min(local_parameters.lora.M)-1)\n",
    "            else:\n",
    "                UEs[i].SF = int(max(local_parameters.lora.M))\n",
    "        elif (local_parameters.system.rdmSFuni):\n",
    "            UEs[i].SF = np.random.randint(int(min(local_parameters.lora.M)),int(max(local_parameters.lora.M))+1)\n",
    "#         print(UEs[i].SF)\n",
    "        \n",
    "        \n",
    "        # Set transmissions \n",
    "        for j in range(0,len(validatedArrivals[i])):\n",
    "            UEs[i].reportArrival[0][j] = validatedArrivals[i][j]\n",
    "            UEs[i].reportArrivalType[0][j] = typeOfArrivals[i][j]\n",
    "            UEs[i].reportModulos[j] = Parameters.lora.modulos[UEs[i].SF-7]\n",
    "        UEs[i].nextTX = UEs[i].reportArrival[0][0]\n",
    "        \n",
    "#         UEs[i].reportFade = np.random.exponential(1,(local_parameters.traffic.nTX,int(max(local_parameters.lora.fragments)),local_parameters.maxReports,numberAPs))\n",
    "#         UEs[i].reportRx1Fade = np.random.exponential(1,(local_parameters.traffic.nTX,int(max(local_parameters.lora.fragments)),local_parameters.maxReports))\n",
    "#         UEs[i].reportRx2Fade = np.random.exponential(1,(local_parameters.traffic.nTX,int(max(local_parameters.lora.fragments)),local_parameters.maxReports))\n",
    "        \n",
    "        # Setup device\n",
    "        \n",
    "    return UEs, APs\n",
    "\n",
    "\n",
    "# print('starting simulation')\n",
    "# Parameters.traffic.nTX = 1\n",
    "# Parameters.system.A = 1 # number of APs\n",
    "# Parameters.system.M = 10 # number of UEs\n",
    "# UEs, APs = generateTraffic(Parameters)\n",
    "# # UEs, APs = simLoRa(UEs, APs, Parameters)\n",
    "# print('done')\n"
   ]
  },
  {
   "cell_type": "code",
   "execution_count": 752,
   "metadata": {},
   "outputs": [],
   "source": [
    "def finishTX(eventQueue,ongoingQueue,UEs,APs,local_parameters):\n",
    "    \n",
    "    newevent = []\n",
    "    T = eventQueue[0]\n",
    "    Event = eventQueue[1]\n",
    "    uID = eventQueue[2]\n",
    "    reportIndex = eventQueue[3]\n",
    "    reportNTX = eventQueue[4]\n",
    "    reportNFragments = eventQueue[5]\n",
    "    DLuID = eventQueue[6]\n",
    "    \n",
    "    UEs[uID].reportDebug[reportNTX,reportNFragments,reportIndex] = 3\n",
    "    \n",
    "    if not (DLuID+1): #If UE tx\n",
    "        SF = UEs[uID].SF-7\n",
    "        OnIdx = np.where([1 if i[0] == uID and i[3] == -1 else 0 for i in ongoingQueue])[0][0]\n",
    "    else: # if AP tx\n",
    "        SF = 12-7\n",
    "        OnIdx = np.where([1 if i[0] == uID and not(i[3] == -1) else 0 for i in ongoingQueue])[0][0]\n",
    "        \n",
    "    pows = ongoingQueue[OnIdx][7]\n",
    "    noise = local_parameters.channel.noisePower\n",
    "    coIntPow = ongoingQueue[OnIdx][8]\n",
    "    interIntPow = ongoingQueue[OnIdx][9]\n",
    "    \n",
    "    SNR = [S/noise for S in pows]\n",
    "#     print(Parameters.lora.gamma_rx[SF])\n",
    "#     print(SNR)\n",
    "    coSINR = [[pows[i]/(I+noise) for I in coIntPow[i]] for i in range(0,len(pows))]\n",
    "    intSINR = [[pows[i]/(I+noise) for I in interIntPow[i]] for i in range(0,len(pows))]\n",
    "    SINR = [[pows[i]/(coIntPow[i][j]+interIntPow[i][j]+noise) for j in range(0,len(coIntPow[i]))] for i in range(0,len(pows))]\n",
    "    nPreamble = (Parameters.lora.npreamble+5)\n",
    "    \n",
    "    #     print(coSINR)\n",
    "#     if all([SNRtarget,all(coSINRtarget),all(intSINRtarget)]):\n",
    "#         [UEs[uID].reportCapture[reportIndex][reportNFragments][reportNTX].append(j) for j in UEs[uID].reportPreSucces[reportIndex][reportNFragments][reportNTX]]\n",
    "    if not (DLuID+1): # if UE tx    \n",
    "        for j in range(0,len(APs)):\n",
    "            SNRtarget = SNR[j] >= local_parameters.lora.gamma_rx[SF]\n",
    "            coSINRtarget = [coSINR[j][i] >= local_parameters.lora.gamma_co[SF] for i in range(nPreamble,len(coSINR[j])) if coIntPow[j][i] > 0]\n",
    "            intSINRtarget = [intSINR[j][i] >= local_parameters.lora.gamma_int[SF] for i in range(nPreamble,len(intSINR[j])) if interIntPow[j][i] > 0]\n",
    "\n",
    "            if all([SNRtarget,all(coSINRtarget),all(intSINRtarget)]):\n",
    "                UEs[uID].reportCapture[reportIndex][reportNFragments][reportNTX].append(j)\n",
    "                if not j in UEs[uID].reportFailSens[reportIndex][reportNFragments][reportNTX]:\n",
    "                    if j in UEs[uID].reportPreSucces[reportIndex][reportNFragments][reportNTX]:\n",
    "                        APs[j].demodpaths = APs[j].demodpaths+1\n",
    "                        UEs[uID].reportSucces[reportIndex][reportNFragments][reportNTX].append(j)\n",
    "            else:\n",
    "                if(not SNRtarget):\n",
    "                    UEs[uID].reportFailSnr[reportIndex][reportNFragments][reportNTX].append(j)\n",
    "                elif not all(coSINRtarget):\n",
    "                    UEs[uID].reportFailCoInt[reportIndex][reportNFragments][reportNTX].append(j)\n",
    "                elif not all(intSINRtarget):\n",
    "                    UEs[uID].reportFailInterInt[reportIndex][reportNFragments][reportNTX].append(j)\n",
    "#                 elif j in UEs[uID].reportFailSens[reportIndex][reportNFragments][reportNTX]:\n",
    "#                     print('sens fail')\n",
    "#                 else:\n",
    "#                     print('should not go here, if sens fail is uncommented')\n",
    "            \n",
    "    else:\n",
    "        print('DL finish not implemented')\n",
    "\n",
    "#     newevent = [ongoingQueue[OnIdx][4], 2, uID, reportIndex, reportNTX, reportNFragments, DLuID]\n",
    "\n",
    "\n",
    "    # handle extra ntxs - schedule the next transmission\n",
    "    if reportNTX+1 < local_parameters.traffic.nTX:\n",
    "        newevent = [T+1, 0, uID, reportIndex, reportNTX+1, reportNFragments, DLuID]\n",
    "    else: # if no more nTXs: schedule next fragment or TX \n",
    "        if reportNFragments+1 < local_parameters.lora.fragments[SF]:\n",
    "            newevent = [T+1, 0, uID, reportIndex, 0, reportNFragments+1, DLuID]\n",
    "        elif (reportIndex+1 < Parameters.maxReports):\n",
    "            if (UEs[uID].reportArrival[0][reportIndex+1]):\n",
    "                newevent = [max(UEs[uID].reportArrival[0][reportIndex+1],T+1), 0, uID, reportIndex+1, 0, 0, DLuID]\n",
    "#             print(newevent)\n",
    "    \n",
    "    \n",
    "    # if(acksenabled): # handle ack\n",
    "    # schedule the ack(s) and the next TX from dev. IF an ACK is received, remove next TX from dev\n",
    "        # upon receiving ACK: schedule next fragment or TX\n",
    "    \n",
    "    \n",
    "    del ongoingQueue[OnIdx]\n",
    "\n",
    "    return newevent,ongoingQueue,UEs,APs"
   ]
  },
  {
   "cell_type": "code",
   "execution_count": 751,
   "metadata": {},
   "outputs": [
    {
     "data": {
      "text/plain": [
       "True"
      ]
     },
     "execution_count": 751,
     "metadata": {},
     "output_type": "execute_result"
    }
   ],
   "source": [
    "\n",
    "not 4 in [1,2,3]"
   ]
  },
  {
   "cell_type": "code",
   "execution_count": 740,
   "metadata": {
    "collapsed": true
   },
   "outputs": [],
   "source": [
    "def checkPreamble(eventQueue,ongoingQueue,UEs,APs,local_parameters):\n",
    "    \n",
    "    newevent = []\n",
    "    T = eventQueue[0]\n",
    "    Event = eventQueue[1]\n",
    "    uID = eventQueue[2]\n",
    "    reportIndex = eventQueue[3]\n",
    "    reportNTX = eventQueue[4]\n",
    "    reportNFragments = eventQueue[5]\n",
    "    DLuID = eventQueue[6]\n",
    "    \n",
    "    UEs[uID].reportDebug[reportNTX,reportNFragments,reportIndex] = 2\n",
    "    \n",
    "    if not (DLuID+1): #If UE tx\n",
    "        SF = UEs[uID].SF-7\n",
    "#         print([i for i in ongoingQueue])\n",
    "        OnIdx = np.where([1 if i[0] == uID and i[3] == -1 else 0 for i in ongoingQueue])[0][0]\n",
    "        \n",
    "    else: # if AP tx\n",
    "        SF = 12-7\n",
    "        OnIdx = np.where([1 if i[0] == uID and not(i[3] == -1) else 0 for i in ongoingQueue])[0][0]\n",
    "        \n",
    "    pows = ongoingQueue[OnIdx][7]\n",
    "    \n",
    "    noise = local_parameters.channel.noisePower\n",
    "    coIntPow = ongoingQueue[OnIdx][8]\n",
    "    interIntPow = ongoingQueue[OnIdx][9]\n",
    "    \n",
    "    for j in range(0,len(pows)):\n",
    "        ## check sensitivity\n",
    "        if (pows[j]<Parameters.lora.rxSens[SF]):\n",
    "            UEs[uID].reportFailSens[reportIndex][reportNFragments][reportNTX].append(j)\n",
    "        else:\n",
    "            SNR = pows[j]/noise\n",
    "            \n",
    "            if(SNR<Parameters.lora.gamma_rx[SF]):\n",
    "                UEs[uID].reportPreFailSnr[reportIndex][reportNFragments][reportNTX].append(j)\n",
    "            else:\n",
    "                coSINR = [pows[j]/(I+noise) for I in coIntPow[j]]\n",
    "                intSINR = [pows[j]/(I+noise) for I in interIntPow[j]]\n",
    "#                 SINR = [pows[j]/(coIntPow[j][i]+interIntPow[j][i]+noise) for i in range(0,len(coIntPow[j]))]\n",
    "                \n",
    "                symbStatusCo = [coSINR[i] >= Parameters.lora.gamma_co[SF] if coIntPow[j][i] > 0 else 1 for i in range(0,len(coSINR))]\n",
    "                symbStatusInt = [intSINR[i] >= Parameters.lora.gamma_int[SF] if interIntPow[j][i] > 0 else 1 for i in range(0,len(intSINR))]\n",
    "            \n",
    "                symbStatus = [symbStatusCo[i]*symbStatusCo[i] for i in range(0,len(symbStatusCo))]\n",
    "                \n",
    "                # search the preamble for 4 correct consecutive symbols\n",
    "                if(consecutive_one(symbStatus) >= 4 ):\n",
    "#                     print('ok preamble')\n",
    "                    if(APs[j].demodpaths):\n",
    "                        APs[j].demodpaths = APs[j].demodpaths-1\n",
    "                        UEs[uID].reportPreSucces[reportIndex][reportNFragments][reportNTX].append(j)\n",
    "                    else:\n",
    "                        UEs[uID].reportFailDemod[reportIndex][reportNFragments][reportNTX].append(j)\n",
    "                else:\n",
    "                    UEs[uID].reportPreFailCap[reportIndex][reportNFragments][reportNTX].append(j)\n",
    "                    if(consecutive_one(symbStatusCo) < 4 ):\n",
    "                        UEs[uID].reportPreFailCoInt[reportIndex][reportNFragments][reportNTX].append(j)\n",
    "                    if(consecutive_one(symbStatus) < 4 ):\n",
    "                        UEs[uID].reportPreFailInterInt[reportIndex][reportNFragments][reportNTX].append(j)\n",
    "                    if(consecutive_one(symbStatus) >=4 and consecutive_one(symbStatusCo) >=4 ):\n",
    "                        UEs[uID].reportPreFailJointInt[reportIndex][reportNFragments][reportNTX].append(j)\n",
    "\n",
    "\n",
    "    newevent = [ongoingQueue[OnIdx][4], 2, uID, reportIndex, reportNTX, reportNFragments, DLuID]\n",
    "\n",
    "    return newevent,ongoingQueue,UEs,APs"
   ]
  },
  {
   "cell_type": "code",
   "execution_count": 707,
   "metadata": {},
   "outputs": [
    {
     "name": "stdout",
     "output_type": "stream",
     "text": [
      "a\n"
     ]
    }
   ],
   "source": []
  },
  {
   "cell_type": "code",
   "execution_count": 652,
   "metadata": {
    "collapsed": true
   },
   "outputs": [],
   "source": [
    "def addTX(eventQueue,ongoingQueue,UEs,APs,local_parameters):\n",
    "    \n",
    "    newevent = []\n",
    "    T = eventQueue[0]\n",
    "    Event = eventQueue[1]\n",
    "    uID = eventQueue[2]\n",
    "    reportIndex = eventQueue[3]\n",
    "    reportNTX = eventQueue[4]\n",
    "    reportNFragments = eventQueue[5]\n",
    "    DLuID = eventQueue[6]\n",
    "#     print(DLuID)\n",
    "    if not (DLuID+1): # UL TX\n",
    "        #update debug report\n",
    "        UEs[uID].reportDebug[reportNTX,reportNFragments,reportIndex] = 1\n",
    "\n",
    "        ## find an available sub-band for the tx\n",
    "        qLen = [UEs[uID].SB[r].queueLen for r in UEs[uID].r]\n",
    "        channels = [UEs[uID].SB[r].channels for r in UEs[uID].r]\n",
    "        dutycycle = [UEs[uID].SB[r].dutycycle for r in UEs[uID].r]\n",
    "        timeleft = [UEs[uID].SB[r].timeleft for r in UEs[uID].r]\n",
    "        timeleft = [max(i,T) for i in timeleft]\n",
    "        SF = UEs[uID].SF-7\n",
    "\n",
    "        ## sample random subband/channel pair and save the report\n",
    "        minQ = min(timeleft)\n",
    "    else:\n",
    "        #update debug report\n",
    "        APs[uID].reportDebug[reportNTX,reportNFragments,reportIndex] = 1\n",
    "        \n",
    "        ## find an available sub-band for the tx\n",
    "        qLen = [APs[uID].SB[r].queueLen for r in APs[uID].r]\n",
    "        channels = [APs[uID].SB[r].channels for r in APs[uID].r]\n",
    "        dutycycle = [APs[uID].SB[r].dutycycle for r in APs[uID].r]\n",
    "        timeleft = [APs[uID].SB[r].timeleft for r in APs[uID].r]\n",
    "        timeleft = [max(i,T) for i in timeleft]\n",
    "        SF = 12-7\n",
    "\n",
    "        ## sample random subband/channel pair and save the report\n",
    "        minQ = min(timeleft)\n",
    "#     print(minQ)\n",
    "#     print(timeleft)\n",
    "    \n",
    "    if (minQ > T):\n",
    "        newevent = [minQ, 0, uID, reportIndex, reportNTX, reportNFragments, DLuID]\n",
    "    else:\n",
    "        minIdx = np.where([i == minQ for i in timeleft])[0]\n",
    "        nChs = [local_parameters.lora.chs[i] for i in minIdx]\n",
    "        cnChs = np.cumsum(nChs)\n",
    "        ch = np.random.randint(0,sum(nChs))\n",
    "        sb = sum([ch > i-1 for i in cnChs])\n",
    "        \n",
    "        if not (DLuID+1):\n",
    "            UEs[uID].reportSubband[reportNTX,reportNFragments,reportIndex] = sb\n",
    "            UEs[uID].reportChannel[reportNTX,reportNFragments,reportIndex] = ch\n",
    "            UEs[uID].reportNTX[reportNFragments,reportIndex] = reportNTX+1\n",
    "        else:\n",
    "            APs[uID].reportSubband[reportNTX,reportNFragments,reportIndex] = sb\n",
    "            APs[uID].reportChannel[reportNTX,reportNFragments,reportIndex] = ch\n",
    "            APs[uID].reportNTX[reportNFragments,reportIndex] = reportNTX+1\n",
    "\n",
    "        \n",
    "        ## compute transmission time\n",
    "        payload = local_parameters.lora.overhead\n",
    "        if not (DLuID+1):\n",
    "            if(reportNFragments == local_parameters.lora.fragments[SF]-1):\n",
    "                payload = payload + UEs[uID].reportModulos[reportIndex]\n",
    "            else:\n",
    "                payload = payload + local_parameters.lora.N[SF]\n",
    "        else:\n",
    "            if(reportNFragments == local_parameters.lora.fragments[SF]-1):\n",
    "                payload = payload + APs[uID].reportModulos[reportIndex]\n",
    "            else:\n",
    "                payload = payload + local_parameters.lora.N[SF]\n",
    "\n",
    "        nPayload = 8 + max(np.ceil((8*(payload)-4*local_parameters.lora.M[SF]+44)/(4*(local_parameters.lora.M[SF] -2*local_parameters.lora.DE[SF])))*(local_parameters.lora.CR+4),0)\n",
    "        txTime = nPayload*local_parameters.lora.tSymbol[SF] + local_parameters.lora.tPreamble[SF]\n",
    "        ## Mark sub-band as busy\n",
    "        if not (DLuID+1):\n",
    "            busytime = txTime/UEs[uID].SB[sb].dutycycle\n",
    "#             print(UEs[uID].SB[sb].dutycycle,txTime,busytime)\n",
    "            UEs[uID].SB[sb].timeleft = busytime + T\n",
    "            \n",
    "            ## set owner variables\n",
    "#             pos = UEs[uID].pos\n",
    "            txPow = UEs[uID].pow\n",
    "#             posAP = [APs[j].pos for j in range(0,local_parameters.system.A)]\n",
    "#             dist = [(np.sqrt(sum([abs(posAP[j][i]-pos[i])**2 for i in range(0,len(pos))]))) for j in range(0,len(posAP))]\n",
    "#             PL = [((local_parameters.lora.fc**2)*10**(-2.8))**(-1)/(dist[j]**local_parameters.channel.alpha) for j in range(0,len(posAP))]\n",
    "            PL = UEs[uID].PL\n",
    "            fades = np.random.exponential(1,(len(APs)))\n",
    "            pows = [txPow*PL[i]*fades[i] for i in range(0,len(APs))]\n",
    "            \n",
    "#             ## no target\n",
    "            targetuIDs = -1\n",
    "        else:\n",
    "            busytime = txTime/APs[uID].SB[sb].dutycycle\n",
    "            APs[uID].SB[sb].timeleft = busytime + T\n",
    "            \n",
    "            ## set owner variables\n",
    "            pos = APs[uID].pos\n",
    "            txPow = APs[uID].pow\n",
    "\n",
    "        ## Setup the new event\n",
    "        newevent = [(local_parameters.lora.tPreamble[SF]+T), 1, uID, reportIndex, reportNTX, reportNFragments, DLuID]\n",
    "        \n",
    "        ## Compute the interference with ongoing txs\n",
    "        nSyms = (Parameters.lora.npreamble+4.25)+nPayload\n",
    "\n",
    "        ## add interference to all tx in ongoingQueue\n",
    "        interPow = np.zeros((len(APs),int(np.ceil(nSyms))))\n",
    "        coPow = np.zeros((len(APs),int(np.ceil(nSyms))))\n",
    "        fades = np.random.exponential(1,(len(APs)))\n",
    "        sPow = [txPow*PL[i]*fades[i] for i in range(0,len(APs))]\n",
    "#         if (local_parameters.modules.capture):\n",
    "        nOn = len(ongoingQueue)\n",
    "        for i in range(0,nOn):\n",
    "            onUid = ongoingQueue[i][0]\n",
    "            if not (onUid == uID):\n",
    "                onCh = ongoingQueue[i][1]\n",
    "                onSb = ongoingQueue[i][2]\n",
    "\n",
    "                if (sb == onSb and ch == onCh):\n",
    "#                     print(uID,onUid)\n",
    "#                     targetuIDs.append(ongoingQueue[i][3])\n",
    "                    onTxDone = ongoingQueue[i][4]\n",
    "                    onTxTime = ongoingQueue[i][5]\n",
    "                    onSF = ongoingQueue[i][6]\n",
    "                    OnCoPow = ongoingQueue[i][8]\n",
    "                    OnInterPow = ongoingQueue[i][9]\n",
    "                    onTime = onTxDone-onTxTime\n",
    "                    onSyms = int(np.ceil(onTxTime/local_parameters.lora.tSymbol[onSF]))\n",
    "#                         print(onSF,onSyms)\n",
    "#                         print('Time: '+str(T)+' | OnTime: '+str(onTxDone-onTxTime))\n",
    "#                         print('txTime: '+str(txTime)+' | OnTxTime: '+str(onTxTime))\n",
    "                    if ( T < onTxDone):\n",
    "                        # calculate overlap in symbs\n",
    "                        if(onTxDone>T+txTime): # new tx takes place within old\n",
    "                            onCorners = onTime+[(j+.25)*local_parameters.lora.tSymbol[onSF] for j in range(0,onSyms)]\n",
    "\n",
    "                            endSym = np.where([onCorners[j] > (T+txTime)  for j in range(0,onSyms)])[0]\n",
    "                            if len(endSym)==0:\n",
    "                                endSym = [onSyms]\n",
    "                            endSym = endSym[0]\n",
    "\n",
    "                            startSym = np.where([onCorners[j] > T  for j in range(0,onSyms)])[0]\n",
    "                            if len(startSym)==0:\n",
    "                                startSym = [0]\n",
    "                            startSym = startSym[0]-1\n",
    "\n",
    "                        else: # new tx until old finishes\n",
    "                            onCorners = onTime+[(j+.25)*local_parameters.lora.tSymbol[onSF] for j in range(0,onSyms)]\n",
    "\n",
    "                            endSym = len(onCorners)-1\n",
    "\n",
    "                            startSym = np.where([onCorners[j] > T  for j in range(0,onSyms)])[0]\n",
    "                            if len(startSym)==0:\n",
    "                                startSym = [0]\n",
    "                            startSym = startSym[0]-1\n",
    "\n",
    "                        # calculate the interference\n",
    "                        if not (DLuID+1):\n",
    "#                                 posAP = [APs[j].pos for j in range(0,local_parameters.system.A)]\n",
    "#                                 dist = [(np.sqrt(sum([abs(posAP[j][i]-pos[i])**2 for i in range(0,len(pos))]))) for j in range(0,len(posAP))]\n",
    "#                                 PL = [((local_parameters.lora.fc**2)*10**(-2.8))**(-1)/(dist[j]**local_parameters.channel.alpha) for j in range(0,len(posAP))]\n",
    "#                                 fades = np.random.exponential(1,(len(posAP)))\n",
    "#                                 pows = [txPow*PL[i]*fades[i] for i in range(0,len(posAP))]\n",
    "#                             print(pows)\n",
    "                            if(SF == onSF):\n",
    "                                OnCoPow = [[OnCoPow[i]+pows[j] if (i>=startSym and i<=endSym) else OnCoPow[i] for i in range(0,len(OnCoPow))] for j in range(0,len(APs))][0]\n",
    "                                ongoingQueue[i][8] = OnCoPow\n",
    "#                                     print(OnCoPow)\n",
    "                            else:\n",
    "                                OnInterPow = [[OnInterPow[i]+pows[j] if (i>=startSym and i<=endSym) else OnInterPow[i] for i in range(0,len(OnInterPow))] for j in range(0,len(APs))][0]\n",
    "                                ongoingQueue[i][9] = OnInterPow\n",
    "\n",
    "#                             targetuIDs = -1\n",
    "\n",
    "                        else: # Handle Downlink! \n",
    "                            1\n",
    "                            # we have not implemented this feature yet, but:\n",
    "                            # DL should be added as UL are added, except when interference is found, \n",
    "                            # there should be interference to all devices, who are listening for a tx\n",
    "                            # any new UL tx will interfere with the devices who are listening.\n",
    "                            # So to do this we just add a list of receiving devices to each DL in\n",
    "                            # the ongoingqueue. \n",
    "\n",
    "\n",
    "#         else: # if we do not take capture effect into account\n",
    "#             # no other module implemented\n",
    "#             print('Warning: No other interference-modules than capture effect has been implemented')\n",
    "        \n",
    "        ## add new tx to queue\n",
    "        ongoingQueue.append([uID, ch, sb, targetuIDs, T+txTime, txTime, SF, sPow, coPow, interPow])\n",
    "\n",
    "\n",
    "        \n",
    "    return newevent,ongoingQueue,UEs,APs"
   ]
  },
  {
   "cell_type": "code",
   "execution_count": 645,
   "metadata": {},
   "outputs": [],
   "source": [
    "def simLoRa(UEs, APs, local_parameters):\n",
    "    \n",
    "    ## Setup\n",
    "    M = Parameters.system.M  # Number of Devices\n",
    "    A = Parameters.system.A  # Number of Access Points\n",
    "    \n",
    "    tPreamble= Parameters.lora.tPreamble\n",
    "    Rs = [1/tS for tS in Parameters.lora.tSymbol]\n",
    "    T = 0\n",
    " \n",
    "    cntsame = 0\n",
    "    cntdif = 0\n",
    "\n",
    "    _UL = 0\n",
    "    _DL = 1\n",
    "\n",
    "    # Setup initial events for all devices\n",
    "    uIDs = [uID for uID in range(0,len(UEs)) if UEs[uID].nextTX > 0]\n",
    "    nextTXs = [UEs[uid].nextTX for uid in uIDs]\n",
    "    uIDs = [uIDs for _,uIDs in sorted(zip(nextTXs,uIDs))]\n",
    "    nextTXs = sorted(nextTXs)\n",
    "    eventQueue = [[nextTXs[i], 0, uIDs[i], 0, 0, 0, -1] for i in range(0,len(uIDs))]\n",
    "    \n",
    "    ongoingQueue = [] # Queue that holds the ongoingtransmissions\n",
    "    \n",
    "    while(T < Parameters.simulationLen):\n",
    "        Told = T\n",
    "        newevent = []\n",
    "        # Update simulation time based on event-time\n",
    "        if(eventQueue):\n",
    "            T = eventQueue[0][0]\n",
    "            Event = eventQueue[0][1]\n",
    "#             data = eventQueue(5,1);\n",
    "#             band = eventQueue(6,1);\n",
    "#             ch = eventQueue(7,1);\n",
    "            uIDs = eventQueue[0][2]\n",
    "            nID = eventQueue[0][3]\n",
    "            nTX = eventQueue[0][4]\n",
    "            nFrag = eventQueue[0][5]\n",
    "#             receipt = eventQueue(10,1);\n",
    "        else:\n",
    "            break ## we terminate the simulation if there are no more events\n",
    "        \n",
    "        ## Simulate event\n",
    "#         print(T,Event,uIDs)\n",
    "#         print(nID,nFrag,nTX)\n",
    "#         print(eventQueue)\n",
    "#         print(ongoingQueue)\n",
    "        ## Add new transmission(s)\n",
    "        if(Event == 0):\n",
    "#             print('add transmission')\n",
    "            newevent,ongoingQueue,UEs,APs = addTX(eventQueue[0],ongoingQueue,UEs,APs,local_parameters)\n",
    "        \n",
    "        ## Evaluate preamble and assign demod path\n",
    "        if(Event == 1):\n",
    "#             print('check preamble')\n",
    "            newevent,ongoingQueue,UEs,APs = checkPreamble(eventQueue[0],ongoingQueue,UEs,APs,local_parameters)\n",
    "        \n",
    "        ## Evaluate transmission, remove it from ongoing and free up demod path - IF ACKS enabled, then add ACK!\n",
    "        if(Event == 2):\n",
    "            newevent,ongoingQueue,UEs,APs = finishTX(eventQueue[0],ongoingQueue,UEs,APs,local_parameters)\n",
    "#             print('finish transmission')\n",
    "            \n",
    "#         print([ap.demodpaths for ap in APs])\n",
    "        \n",
    "        ## Update the event queue\n",
    "        if(newevent):\n",
    "            eventQueue.append(newevent)\n",
    "        \n",
    "        Ts = [i[0] for i in eventQueue]\n",
    "        eventQueue = [eventQueue for _,eventQueue in sorted(zip(Ts,eventQueue))]\n",
    "\n",
    "        \n",
    "        del eventQueue[0]\n",
    "\n",
    "\n",
    "    return UEs, APs"
   ]
  },
  {
   "cell_type": "code",
   "execution_count": 714,
   "metadata": {},
   "outputs": [
    {
     "name": "stdout",
     "output_type": "stream",
     "text": [
      "starting simulation\n",
      "done\n"
     ]
    }
   ],
   "source": [
    "print('starting simulation')\n",
    "Parameters.traffic.nTX = 1\n",
    "Parameters.system.A = 1 # number of APs\n",
    "Parameters.system.M = 100 # number of UEs\n",
    "UEs, APs = generateTraffic(Parameters)\n",
    "\n",
    "# Parameters.traffic.lambdaD = 1/(60*10)\n",
    "# Parameters.simulationLen = np.floor(Parameters.maxReports/3)*1/Parameters.traffic.lambdaD\n",
    "# print(Parameters.simulationLen)\n",
    "# print(1/Parameters.traffic.lambdaD)\n",
    "# print(Parameters.simulationLen/(1/Parameters.traffic.lambdaD))\n",
    "# print(UEs[0].reportArrival)\n",
    "\n",
    "UEs, APs = simLoRa(UEs, APs, Parameters)\n",
    "print('done')\n",
    "\n",
    "# print([(min(ue.dist),ue.SF) for ue in UEs])\n",
    "\n"
   ]
  },
  {
   "cell_type": "code",
   "execution_count": 332,
   "metadata": {},
   "outputs": [
    {
     "data": {
      "image/png": "[encoded data removed]",
      "text/plain": [
       "<matplotlib.figure.Figure at 0x20483c344a8>"
      ]
     },
     "metadata": {},
     "output_type": "display_data"
    },
    {
     "data": {
      "image/png": "[encoded data removed]",
      "text/plain": [
       "<matplotlib.figure.Figure at 0x204825647f0>"
      ]
     },
     "metadata": {},
     "output_type": "display_data"
    },
    {
     "data": {
      "image/png": "[encoded data removed]",
      "text/plain": [
       "<matplotlib.figure.Figure at 0x2049626cf28>"
      ]
     },
     "metadata": {},
     "output_type": "display_data"
    },
    {
     "ename": "AttributeError",
     "evalue": "'UE' object has no attribute 'mainAP'",
     "output_type": "error",
     "traceback": [
      "\u001b[1;31m---------------------------------------------------------------------------\u001b[0m",
      "\u001b[1;31mAttributeError\u001b[0m                            Traceback (most recent call last)",
      "\u001b[1;32m<ipython-input-332-208ead6efb7a>\u001b[0m in \u001b[0;36m<module>\u001b[1;34m()\u001b[0m\n\u001b[0;32m     38\u001b[0m \u001b[1;31m## CDF of distances to main APs and to all APs\u001b[0m\u001b[1;33m\u001b[0m\u001b[1;33m\u001b[0m\u001b[0m\n\u001b[0;32m     39\u001b[0m \u001b[0mplt\u001b[0m\u001b[1;33m.\u001b[0m\u001b[0msubplots\u001b[0m\u001b[1;33m(\u001b[0m\u001b[1;36m2\u001b[0m\u001b[1;33m,\u001b[0m \u001b[1;36m2\u001b[0m\u001b[1;33m,\u001b[0m \u001b[0msharex\u001b[0m\u001b[1;33m=\u001b[0m\u001b[1;32mTrue\u001b[0m\u001b[1;33m,\u001b[0m \u001b[0msharey\u001b[0m\u001b[1;33m=\u001b[0m\u001b[1;32mFalse\u001b[0m\u001b[1;33m,\u001b[0m\u001b[0mfigsize\u001b[0m\u001b[1;33m=\u001b[0m\u001b[1;33m(\u001b[0m\u001b[1;36m12\u001b[0m\u001b[1;33m,\u001b[0m\u001b[1;36m6\u001b[0m\u001b[1;33m)\u001b[0m\u001b[1;33m)\u001b[0m\u001b[1;33m\u001b[0m\u001b[0m\n\u001b[1;32m---> 40\u001b[1;33m \u001b[0mdistances\u001b[0m \u001b[1;33m=\u001b[0m \u001b[1;33m[\u001b[0m\u001b[0mdev\u001b[0m\u001b[1;33m.\u001b[0m\u001b[0mdist\u001b[0m\u001b[1;33m[\u001b[0m\u001b[0mdev\u001b[0m\u001b[1;33m.\u001b[0m\u001b[0mmainAP\u001b[0m\u001b[1;33m[\u001b[0m\u001b[1;36m0\u001b[0m\u001b[1;33m]\u001b[0m\u001b[1;33m]\u001b[0m \u001b[1;32mfor\u001b[0m \u001b[0mdev\u001b[0m \u001b[1;32min\u001b[0m \u001b[0mUEs\u001b[0m\u001b[1;33m]\u001b[0m\u001b[1;33m\u001b[0m\u001b[0m\n\u001b[0m\u001b[0;32m     41\u001b[0m \u001b[0mplt\u001b[0m\u001b[1;33m.\u001b[0m\u001b[0msubplot\u001b[0m\u001b[1;33m(\u001b[0m\u001b[1;36m2\u001b[0m\u001b[1;33m,\u001b[0m\u001b[1;36m2\u001b[0m\u001b[1;33m,\u001b[0m\u001b[1;36m1\u001b[0m\u001b[1;33m)\u001b[0m\u001b[1;33m\u001b[0m\u001b[0m\n\u001b[0;32m     42\u001b[0m \u001b[0my\u001b[0m\u001b[1;33m,\u001b[0m\u001b[0mx\u001b[0m \u001b[1;33m=\u001b[0m \u001b[0mnp\u001b[0m\u001b[1;33m.\u001b[0m\u001b[0mhistogram\u001b[0m\u001b[1;33m(\u001b[0m\u001b[0mdistances\u001b[0m\u001b[1;33m,\u001b[0m\u001b[1;36m25\u001b[0m\u001b[1;33m)\u001b[0m\u001b[1;33m\u001b[0m\u001b[0m\n",
      "\u001b[1;32m<ipython-input-332-208ead6efb7a>\u001b[0m in \u001b[0;36m<listcomp>\u001b[1;34m(.0)\u001b[0m\n\u001b[0;32m     38\u001b[0m \u001b[1;31m## CDF of distances to main APs and to all APs\u001b[0m\u001b[1;33m\u001b[0m\u001b[1;33m\u001b[0m\u001b[0m\n\u001b[0;32m     39\u001b[0m \u001b[0mplt\u001b[0m\u001b[1;33m.\u001b[0m\u001b[0msubplots\u001b[0m\u001b[1;33m(\u001b[0m\u001b[1;36m2\u001b[0m\u001b[1;33m,\u001b[0m \u001b[1;36m2\u001b[0m\u001b[1;33m,\u001b[0m \u001b[0msharex\u001b[0m\u001b[1;33m=\u001b[0m\u001b[1;32mTrue\u001b[0m\u001b[1;33m,\u001b[0m \u001b[0msharey\u001b[0m\u001b[1;33m=\u001b[0m\u001b[1;32mFalse\u001b[0m\u001b[1;33m,\u001b[0m\u001b[0mfigsize\u001b[0m\u001b[1;33m=\u001b[0m\u001b[1;33m(\u001b[0m\u001b[1;36m12\u001b[0m\u001b[1;33m,\u001b[0m\u001b[1;36m6\u001b[0m\u001b[1;33m)\u001b[0m\u001b[1;33m)\u001b[0m\u001b[1;33m\u001b[0m\u001b[0m\n\u001b[1;32m---> 40\u001b[1;33m \u001b[0mdistances\u001b[0m \u001b[1;33m=\u001b[0m \u001b[1;33m[\u001b[0m\u001b[0mdev\u001b[0m\u001b[1;33m.\u001b[0m\u001b[0mdist\u001b[0m\u001b[1;33m[\u001b[0m\u001b[0mdev\u001b[0m\u001b[1;33m.\u001b[0m\u001b[0mmainAP\u001b[0m\u001b[1;33m[\u001b[0m\u001b[1;36m0\u001b[0m\u001b[1;33m]\u001b[0m\u001b[1;33m]\u001b[0m \u001b[1;32mfor\u001b[0m \u001b[0mdev\u001b[0m \u001b[1;32min\u001b[0m \u001b[0mUEs\u001b[0m\u001b[1;33m]\u001b[0m\u001b[1;33m\u001b[0m\u001b[0m\n\u001b[0m\u001b[0;32m     41\u001b[0m \u001b[0mplt\u001b[0m\u001b[1;33m.\u001b[0m\u001b[0msubplot\u001b[0m\u001b[1;33m(\u001b[0m\u001b[1;36m2\u001b[0m\u001b[1;33m,\u001b[0m\u001b[1;36m2\u001b[0m\u001b[1;33m,\u001b[0m\u001b[1;36m1\u001b[0m\u001b[1;33m)\u001b[0m\u001b[1;33m\u001b[0m\u001b[0m\n\u001b[0;32m     42\u001b[0m \u001b[0my\u001b[0m\u001b[1;33m,\u001b[0m\u001b[0mx\u001b[0m \u001b[1;33m=\u001b[0m \u001b[0mnp\u001b[0m\u001b[1;33m.\u001b[0m\u001b[0mhistogram\u001b[0m\u001b[1;33m(\u001b[0m\u001b[0mdistances\u001b[0m\u001b[1;33m,\u001b[0m\u001b[1;36m25\u001b[0m\u001b[1;33m)\u001b[0m\u001b[1;33m\u001b[0m\u001b[0m\n",
      "\u001b[1;31mAttributeError\u001b[0m: 'UE' object has no attribute 'mainAP'"
     ]
    }
   ],
   "source": [
    "### Vizualize stuff\n",
    "## Vizualize arrivals in time\n",
    "plt.subplots(2, 1, sharex=True, sharey=False)\n",
    "plt.subplot(2,1,1)\n",
    "plt.title('Arrivals in time')\n",
    "numberUEs = Parameters.system.M\n",
    "validatedArrivals = []\n",
    "for dev in UEs:\n",
    "    validatedArrivals.extend([j for j in dev.reportArrival[0] if j > 0])\n",
    "plt.stem(validatedArrivals,np.ones((len(validatedArrivals))))\n",
    "plt.xlabel('Subframe [sec]')\n",
    "plt.ylabel('Real-time')\n",
    "# plt.xlim([0,60*10])\n",
    "\n",
    "plt.subplot(2,1,2)\n",
    "numberUEs = Parameters.system.M\n",
    "plt.hist(validatedArrivals,1000)\n",
    "plt.xlabel('Subframe [sec]')\n",
    "plt.ylabel('No. of arrivals')\n",
    "plt.show()\n",
    "\n",
    "## Vizualize positions\n",
    "\n",
    "fig, ax = plt.subplots(figsize=(5,4))\n",
    "plt.scatter([dev.pos[0] for dev in UEs],[dev.pos[1] for dev in UEs])\n",
    "plt.scatter([ap.pos[0] for ap in APs],[ap.pos[1] for ap in APs])\n",
    "centreCircle = plt.Circle((0,0),Parameters.system.cellRadius,color=\"k\",fill=False)\n",
    "ax.add_patch(centreCircle)\n",
    "plt.xlabel('X-coordinate [m]')\n",
    "plt.ylabel('Y-coordinate [m]')\n",
    "plt.legend(['border','UEs','APs'],loc='upper right')\n",
    "plt.subplots_adjust(left=0.2, right=.95, bottom=0.1, top=.95)\n",
    "plt.savefig('cellLayout.eps')\n",
    "plt.savefig('cellLayout.png')\n",
    "plt.show()\n",
    "\n",
    "\n",
    "## CDF of distances to main APs and to all APs\n",
    "plt.subplots(2, 2, sharex=True, sharey=False,figsize=(12,6))\n",
    "distances = [dev.dist[dev.mainAP[0]] for dev in UEs]\n",
    "plt.subplot(2,2,1)\n",
    "y,x = np.histogram(distances,25)\n",
    "plt.bar(x[0:-1]+(x[1]-x[0])/2,y/sum(y),width=(x[1]-x[0]))\n",
    "plt.xlabel('Distance [m]')\n",
    "plt.ylabel('CDF')\n",
    "\n",
    "plt.subplot(2,2,2)\n",
    "ycum = np.cumsum(y)\n",
    "plt.plot(x[0:-1]+(x[1]-x[0])/2,[j/ycum[-1] for j in ycum])\n",
    "\n",
    "distances = [dev.dist for dev in UEs]\n",
    "distances = [j for i in distances for j in i]\n",
    "plt.subplot(2,2,3)\n",
    "y,x = np.histogram(distances,25)\n",
    "plt.bar(x[0:-1]+(x[1]-x[0])/2,y/sum(y),width=(x[1]-x[0]))\n",
    "plt.xlabel('Distance [m]')\n",
    "plt.ylabel('CDF')\n",
    "\n",
    "plt.subplot(2,2,4)\n",
    "ycum = np.cumsum(y)\n",
    "plt.plot(x[0:-1]+(x[1]-x[0])/2,[j/ycum[-1] for j in ycum])\n",
    "plt.show()\n",
    "\n",
    "### SF distribution\n",
    "plt.subplots(figsize=(6,2))\n",
    "SFs = [dev.SF for dev in UEs if dev.SF > 1]\n",
    "x = [i-.5 for i in range(int(min(Parameters.lora.M)),2+int(max(Parameters.lora.M)))]\n",
    "y,x = np.histogram(SFs,x) #\n",
    "plt.bar(x[0:-1]+.5,y/sum(y),width=(x[1]-x[0]))\n",
    "plt.xlabel('Spreading factors')\n",
    "plt.ylabel('CDF')\n",
    "plt.show()"
   ]
  },
  {
   "cell_type": "code",
   "execution_count": 395,
   "metadata": {
    "scrolled": true
   },
   "outputs": [
    {
     "name": "stdout",
     "output_type": "stream",
     "text": [
      "postprocessing\n"
     ]
    },
    {
     "data": {
      "image/png": "[encoded data removed]",
      "text/plain": [
       "<matplotlib.figure.Figure at 0x2049ca700f0>"
      ]
     },
     "metadata": {},
     "output_type": "display_data"
    },
    {
     "data": {
      "image/png": "[encoded data removed]",
      "text/plain": [
       "<matplotlib.figure.Figure at 0x204f312de48>"
      ]
     },
     "metadata": {},
     "output_type": "display_data"
    },
    {
     "data": {
      "image/png": "[encoded data removed]",
      "text/plain": [
       "<matplotlib.figure.Figure at 0x204eea75da0>"
      ]
     },
     "metadata": {},
     "output_type": "display_data"
    }
   ],
   "source": [
    "\n",
    "print('postprocessing')\n",
    "# print(len([0]))\n",
    "# [i for i in ue.reportArrival[0] for ue in UEs]\n",
    "# nTXs\n",
    "# for ue in UEs:\n",
    "nTXs = [len([i for i in ue.reportArrival[0] if i]) for ue in UEs]\n",
    "succes = [sum([1 if all([any([1 if i else 0 for i in j]) for j in k]) else 0 for k in ue.reportSucces]) for ue in UEs]\n",
    "# nDevs = len([len([i for i in ue.reportArrival[0] if i]) for ue in UEs])\n",
    "# nDevs = len(UEs)\n",
    "outage = [1-succes[i]/nTXs[i] for i in range(0,len(nTXs)) if nTXs[i]]\n",
    "# print(nDevs)\n",
    "\n",
    "\n",
    "plt.subplots(figsize=(6,2))\n",
    "SFs = [dev.SF for dev in UEs if dev.SF > 1]\n",
    "x = [i-.5 for i in range(int(min(Parameters.lora.M)),2+int(max(Parameters.lora.M)))]\n",
    "y,x = np.histogram(SFs,x) #\n",
    "plt.bar(x[0:-1]+.5,y/sum(y),width=(x[1]-x[0]))\n",
    "plt.xlabel('Spreading factors')\n",
    "plt.ylabel('CDF')\n",
    "plt.show()\n",
    "\n",
    "bins = 20\n",
    "plt.subplots(figsize=(6,2))\n",
    "y,x = np.histogram(outage,[i/bins-1/bins/2 for i in range(0,bins+2)]) #\n",
    "# plt.bar(x[0:-1]+(x[1]-x[0])/2,y/sum(y),width=(x[1]-x[0]))\n",
    "plt.plot(x[0:-1]+(x[1]-x[0])/2,np.cumsum(y)/sum(y))\n",
    "plt.xlabel('Outage')\n",
    "plt.ylabel('CDF')\n",
    "plt.ylim([0,1])\n",
    "plt.show()\n",
    "\n",
    "## Vizualize positions\n",
    "\n",
    "fig, ax = plt.subplots(figsize=(4,4))\n",
    "centreCircle = plt.Circle((0,0),Parameters.system.cellRadius,color=\"k\",fill=False)\n",
    "ax.add_patch(centreCircle)\n",
    "\n",
    "plt.scatter([dev.pos[0] for dev in UEs],[dev.pos[1] for dev in UEs])\n",
    "plt.scatter([ap.pos[0] for ap in APs],[ap.pos[1] for ap in APs])\n",
    "plt.xlabel('X-coordinate [m]')\n",
    "plt.ylabel('Y-coordinate [m]')\n",
    "plt.show()"
   ]
  },
  {
   "cell_type": "code",
   "execution_count": 87,
   "metadata": {},
   "outputs": [
    {
     "data": {
      "text/plain": [
       "3"
      ]
     },
     "execution_count": 87,
     "metadata": {},
     "output_type": "execute_result"
    }
   ],
   "source": [
    "x = [True, True, True, False, True, False, False, False, False, False, False, True, True]\n",
    "# x = [1 if x[i] else 0 for i in range(0,len(x))]\n",
    "consecutive_one(x)"
   ]
  },
  {
   "cell_type": "code",
   "execution_count": 731,
   "metadata": {
    "collapsed": true
   },
   "outputs": [],
   "source": [
    "class res:\n",
    "\n",
    "    def __init__(self):\n",
    "        self.nUEs = 0\n",
    "        self.nAPs = 0\n",
    "        self.nTXs = []\n",
    "        self.succes = []\n",
    "        self.outage = []\n",
    "\n",
    "\n",
    "def interprocessing(UEs,APs):\n",
    "    \n",
    "    result = res()\n",
    "    \n",
    "    result.nUEs = len(UEs)+1\n",
    "    result.nAPs = len(APs)+1\n",
    "    result.UEpos = [[dev.pos[0] for dev in UEs],[dev.pos[1] for dev in UEs]]\n",
    "    result.APpos = [[ap.pos[0] for ap in APs], [ap.pos[1] for ap in APs]]\n",
    "    result.SFs = [dev.SF for dev in UEs if dev.SF > 1]\n",
    "    \n",
    "    result.nTXs = [len([i for i in ue.reportArrival[0] if i]) for ue in UEs]\n",
    "    result.nCapture = [sum([1 if all([any([1 if i else 0 for i in j]) for j in k]) else 0 for k in ue.reportCapture]) for ue in UEs]\n",
    "    result.nPreSucces = [sum([1 if all([any([1 if i else 0 for i in j]) for j in k]) else 0 for k in ue.reportPreSucces]) for ue in UEs]\n",
    "    result.nSucces = [sum([1 if all([any([1 if i else 0 for i in j]) for j in k]) else 0 for k in ue.reportSucces]) for ue in UEs]\n",
    "    result.preOutage = [1-result.nPreSucces[i]/result.nTXs[i] for i in range(0,len(result.nTXs)) if result.nTXs[i]]\n",
    "    result.outage = [1-result.nSucces[i]/result.nTXs[i] for i in range(0,len(result.nTXs)) if result.nTXs[i]]\n",
    "    \n",
    "    \n",
    "    \n",
    "    return result"
   ]
  },
  {
   "cell_type": "markdown",
   "metadata": {},
   "source": [
    "Note on ATPBAR: Check this if you get the error messsage \"Failed to display Jupyter Widget...\".\n",
    "You must enable widgets for the atpbar to work!\n",
    "Eg. if using conda, type in Anaconda prompt \"jupyter nbextension enable --py --sys-prefix widgetsnbextension\"\n",
    "Now, update the browser page so it reconnects to the kernel and laods the new setting.\n",
    "\n",
    "The widgets need the nodejs library installed \"conda install nodejs\" / \"pip install nodejs\"\n",
    "Still having trouble? Try \"trusting\" the notebook (file->\"trust notebook\") in jupyter and make sure jupyter and the required libraries are up-to-date."
   ]
  },
  {
   "cell_type": "code",
   "execution_count": 753,
   "metadata": {},
   "outputs": [
    {
     "data": {
      "application/vnd.jupyter.widget-view+json": {
       "model_id": "c1f57ac353d940049b89d08373b7001e"
      }
     },
     "metadata": {},
     "output_type": "display_data"
    },
    {
     "name": "stdout",
     "output_type": "stream",
     "text": [
      "done\n"
     ]
    }
   ],
   "source": [
    "# Post-processing parameters\n",
    "# nbins = 10000\n",
    "\n",
    "# PP variables\n",
    "results = []\n",
    "\n",
    "# Simulator parameters\n",
    "Parameters.REPS = 10\n",
    "Parameters.traffic.lambdaD = 1/(60*10)\n",
    "Parameters.simulationLen = np.floor(Parameters.maxReports/3)*1/Parameters.traffic.lambdaD\n",
    "# A = [1,2,3,4,5,6,7,8,9,10]\n",
    "A = [1,2,3,4,5]\n",
    "# M = [5,25,50,100,150,200,250,300,400,500,600,700,800,900,1000]\n",
    "# M = [int(m*8) for m in M]\n",
    "M = [10, 50, 100, 500, 1000, 2500, 5000, 7500, 10000]\n",
    "REPS = [min(int(np.ceil(max(M)/m)*2),200) for m in M]\n",
    "# endProgress = (Parameters.REPS-1)\n",
    "# endTotalProgres = ((len(A))*(Parameters.REPS))\n",
    "# for a in atpbar(A, name='Total progress'):\n",
    "#     for rep in atpbar(range(0,Parameters.REPS), name=str(Parameters.REPS)+' repetitions for '+str(a)+' GWs'):\n",
    "#         aidx = np.where([k == a for k in A])[0][0]\n",
    "for mn in atpbar(M, name='Total progress'):    \n",
    "    results.append([])\n",
    "    aidx = np.where([k == mn for k in M])[0][0]\n",
    "    for rep in atpbar(range(0,REPS[aidx]), name=str(REPS[aidx])+' repetitions for '+str(mn)+' UEs'):\n",
    "        \n",
    "            \n",
    "        Parameters.system.A = 1 # number of APs\n",
    "        Parameters.system.M = mn # number of UEs\n",
    "        \n",
    "\n",
    "        \n",
    "        ### Generate arrivals\n",
    "        UEs, APs = generateTraffic(Parameters)\n",
    "        \n",
    "        # Simulate LoRa devices transmitting\n",
    "        UEs, APs = simLoRa(UEs, APs, Parameters)\n",
    "\n",
    "        ### Intermidiate processing of results\n",
    "        results[aidx].append(interprocessing(UEs,APs))\n",
    "\n",
    "print('done')"
   ]
  },
  {
   "cell_type": "code",
   "execution_count": 730,
   "metadata": {},
   "outputs": [
    {
     "name": "stdout",
     "output_type": "stream",
     "text": [
      "[[[[]]], [[[0]]], [[[0]]], [[[0]]], [[[0]]], [[[]]], [[[]]], [[[]]], [[[]]], [[[]]], [[[]]], [[[]]], [[[]]], [[[]]], [[[]]], [[[]]], [[[]]], [[[]]], [[[]]], [[[]]]]\n"
     ]
    },
    {
     "data": {
      "text/plain": [
       "[0, 1, 1, 1, 1, 0, 0, 0, 0, 0, 0, 0, 0, 0, 0, 0, 0, 0, 0, 0]"
      ]
     },
     "execution_count": 730,
     "metadata": {},
     "output_type": "execute_result"
    }
   ],
   "source": [
    "print(UEs[3].reportSucces)\n",
    "[1 if all([any([1 if i else 0 for i in j]) for j in k]) else 0 for k in UEs[3].reportPreSucces]"
   ]
  },
  {
   "cell_type": "code",
   "execution_count": 748,
   "metadata": {},
   "outputs": [
    {
     "data": {
      "image/png": "[encoded data removed]",
      "text/plain": [
       "<matplotlib.figure.Figure at 0x204e7521898>"
      ]
     },
     "metadata": {},
     "output_type": "display_data"
    },
    {
     "data": {
      "image/png": "[encoded data removed]",
      "text/plain": [
       "<matplotlib.figure.Figure at 0x2049ce7e5c0>"
      ]
     },
     "metadata": {},
     "output_type": "display_data"
    },
    {
     "name": "stdout",
     "output_type": "stream",
     "text": [
      "5.9125 0.57419375\n"
     ]
    },
    {
     "data": {
      "image/png": "[encoded data removed]",
      "text/plain": [
       "<matplotlib.figure.Figure at 0x20494984f98>"
      ]
     },
     "metadata": {},
     "output_type": "display_data"
    },
    {
     "data": {
      "image/png": "[encoded data removed]",
      "text/plain": [
       "<matplotlib.figure.Figure at 0x204967fcfd0>"
      ]
     },
     "metadata": {},
     "output_type": "display_data"
    },
    {
     "name": "stdout",
     "output_type": "stream",
     "text": [
      "6.0292 0.11513136\n"
     ]
    },
    {
     "data": {
      "image/png": "[encoded data removed]",
      "text/plain": [
       "<matplotlib.figure.Figure at 0x2049cd8d748>"
      ]
     },
     "metadata": {},
     "output_type": "display_data"
    },
    {
     "data": {
      "image/png": "[encoded data removed]",
      "text/plain": [
       "<matplotlib.figure.Figure at 0x204aafa3f98>"
      ]
     },
     "metadata": {},
     "output_type": "display_data"
    },
    {
     "name": "stdout",
     "output_type": "stream",
     "text": [
      "5.98225 0.0608164375\n"
     ]
    },
    {
     "data": {
      "image/png": "[encoded data removed]",
      "text/plain": [
       "<matplotlib.figure.Figure at 0x2049c1df668>"
      ]
     },
     "metadata": {},
     "output_type": "display_data"
    },
    {
     "data": {
      "image/png": "[encoded data removed]",
      "text/plain": [
       "<matplotlib.figure.Figure at 0x204b5b26748>"
      ]
     },
     "metadata": {},
     "output_type": "display_data"
    },
    {
     "name": "stdout",
     "output_type": "stream",
     "text": [
      "5.99225 0.0080270375\n"
     ]
    },
    {
     "data": {
      "image/png": "[encoded data removed]",
      "text/plain": [
       "<matplotlib.figure.Figure at 0x20499f6f5f8>"
      ]
     },
     "metadata": {},
     "output_type": "display_data"
    },
    {
     "data": {
      "image/png": "[encoded data removed]",
      "text/plain": [
       "<matplotlib.figure.Figure at 0x2049666eb38>"
      ]
     },
     "metadata": {},
     "output_type": "display_data"
    },
    {
     "name": "stdout",
     "output_type": "stream",
     "text": [
      "6.00525 0.0038562875\n"
     ]
    },
    {
     "data": {
      "image/png": "[encoded data removed]",
      "text/plain": [
       "<matplotlib.figure.Figure at 0x204c57ec908>"
      ]
     },
     "metadata": {},
     "output_type": "display_data"
    },
    {
     "data": {
      "image/png": "[encoded data removed]",
      "text/plain": [
       "<matplotlib.figure.Figure at 0x204f949cb70>"
      ]
     },
     "metadata": {},
     "output_type": "display_data"
    },
    {
     "name": "stdout",
     "output_type": "stream",
     "text": [
      "5.98555 0.0021254175\n"
     ]
    },
    {
     "data": {
      "image/png": "[encoded data removed]",
      "text/plain": [
       "<matplotlib.figure.Figure at 0x204a1fb2550>"
      ]
     },
     "metadata": {},
     "output_type": "display_data"
    },
    {
     "data": {
      "image/png": "[encoded data removed]",
      "text/plain": [
       "<matplotlib.figure.Figure at 0x204eadbfba8>"
      ]
     },
     "metadata": {},
     "output_type": "display_data"
    },
    {
     "name": "stdout",
     "output_type": "stream",
     "text": [
      "5.98345 0.0004048875\n"
     ]
    },
    {
     "data": {
      "image/png": "[encoded data removed]",
      "text/plain": [
       "<matplotlib.figure.Figure at 0x204a7bb7908>"
      ]
     },
     "metadata": {},
     "output_type": "display_data"
    },
    {
     "data": {
      "image/png": "[encoded data removed]",
      "text/plain": [
       "<matplotlib.figure.Figure at 0x204992583c8>"
      ]
     },
     "metadata": {},
     "output_type": "display_data"
    },
    {
     "name": "stdout",
     "output_type": "stream",
     "text": [
      "6.03216666667 0.000115416666667\n"
     ]
    },
    {
     "data": {
      "image/png": "[encoded data removed]",
      "text/plain": [
       "<matplotlib.figure.Figure at 0x2052bc18390>"
      ]
     },
     "metadata": {},
     "output_type": "display_data"
    },
    {
     "data": {
      "image/png": "[encoded data removed]",
      "text/plain": [
       "<matplotlib.figure.Figure at 0x204af8f8780>"
      ]
     },
     "metadata": {},
     "output_type": "display_data"
    },
    {
     "name": "stdout",
     "output_type": "stream",
     "text": [
      "5.99395 3.19225e-05\n",
      "5.99072962963 0.00107690239369\n",
      "0.0849669462963 0.0313068771062\n",
      "[0.45429545543523503, 0.44737988399940304, 0.4492017354149892, 0.44845813744243784, 0.44954130442568718, 0.46476442977705318, 0.63352281177511582, 0.88159830678336526, 0.93110340835064931]\n"
     ]
    },
    {
     "data": {
      "image/png": "[encoded data removed]",
      "text/plain": [
       "<matplotlib.figure.Figure at 0x2048d80aa90>"
      ]
     },
     "metadata": {},
     "output_type": "display_data"
    },
    {
     "data": {
      "image/png": "[encoded data removed]",
      "text/plain": [
       "<matplotlib.figure.Figure at 0x2049730fba8>"
      ]
     },
     "metadata": {},
     "output_type": "display_data"
    }
   ],
   "source": [
    "bins = 20\n",
    "nTXsMean = []\n",
    "nTXsVar = []\n",
    "preOutMean = []\n",
    "OutMean = []\n",
    "Out2Mean = []\n",
    "OutSF = [[],[],[],[],[],[]]\n",
    "CaptureMean = []\n",
    "for result in results:\n",
    "    # Spreading factor distribution\n",
    "    SFs = [i for r in result for i in r.SFs]\n",
    "    x = [i-.5 for i in range(int(min(Parameters.lora.M)),2+int(max(Parameters.lora.M)))]\n",
    "    ySF,x = np.histogram(SFs,x,density = True)\n",
    "    \n",
    "    plt.bar(x[0:-1]+.5,ySF,width=(x[1]-x[0]))\n",
    "    plt.xlabel('Spreading factors')\n",
    "    plt.ylabel('CDF')\n",
    "    plt.title('asd')\n",
    "    plt.show()\n",
    "    \n",
    "    # Outage\n",
    "    Outs = [i for r in result for i in r.outage]\n",
    "    x = [i/(bins) for i in range(0,bins+1)]\n",
    "    yOut,x = np.histogram(Outs,x)\n",
    "    Outs2 = [np.mean(r.outage) for r in result]\n",
    "    \n",
    "    # preOutage\n",
    "    preOut = [i for r in result for i in r.preOutage]\n",
    "    preOutMean.append(np.mean(preOut))\n",
    "    \n",
    "    # Capture\n",
    "    Capture = [r.nCapture[i]/r.nTXs[i] for r in result for i in range(0,len(r.nCapture)) if r.nTXs[i]]\n",
    "    CaptureMean.append(np.mean(Capture))\n",
    "#     nTX = [i for r in result for i in r.nTXs]\n",
    "    \n",
    "#     Outs = [i for r in result for i in r.outage]\n",
    "    \n",
    "    \n",
    "    plt.bar(x[0:-1]+(x[1]-x[0])/2,[i/sum(yOut) for i in yOut],width=(x[1]-x[0]))\n",
    "    plt.xlabel('Outage')\n",
    "    plt.ylabel('CDF')\n",
    "    plt.title('asd')\n",
    "    plt.show()\n",
    "    \n",
    "    OutMean.append(np.mean(Outs))\n",
    "    Out2Mean.append(np.mean(Outs2))\n",
    "    \n",
    "    #SF based outage\n",
    "    for j in range(7,12):\n",
    "        OutSF[j-7].append(np.mean([Outs[i] for i in range(0,len(Outs)) if SFs[i] == j]))\n",
    "    \n",
    "    \n",
    "    # Number of transmissions (to test for sufficient no. reps and sim. length!)\n",
    "    nTXs = [np.mean(r.nTXs) for r in result]\n",
    "    nTXsMean.append(np.mean(nTXs))\n",
    "    nTXsVar.append(np.var(nTXs))\n",
    "    print(nTXsMean[-1],nTXsVar[-1])\n",
    "    \n",
    "print(np.mean(nTXsMean),np.var(nTXsMean))\n",
    "print(np.mean(nTXsVar),np.var(nTXsVar))\n",
    "print(OutMean)\n",
    "\n",
    "plt.figure()\n",
    "plt.plot(M,[1-i for i in OutMean])\n",
    "# plt.plot(M,Out2Mean)\n",
    "# plt.plot(M,CaptureMean)\n",
    "plt.grid()\n",
    "plt.show()\n",
    "plt.figure()\n",
    "for j in range(7,12):\n",
    "    plt.plot(M,OutSF[j-7])\n",
    "plt.grid()\n",
    "plt.show()"
   ]
  },
  {
   "cell_type": "code",
   "execution_count": 694,
   "metadata": {},
   "outputs": [
    {
     "data": {
      "text/plain": [
       "[[]]"
      ]
     },
     "execution_count": 694,
     "metadata": {},
     "output_type": "execute_result"
    }
   ],
   "source": []
  },
  {
   "cell_type": "code",
   "execution_count": 212,
   "metadata": {},
   "outputs": [
    {
     "name": "stdout",
     "output_type": "stream",
     "text": [
      "postprocessing\n"
     ]
    },
    {
     "name": "stderr",
     "output_type": "stream",
     "text": [
      "C:\\ProgramData\\Anaconda3\\lib\\site-packages\\matplotlib\\pyplot.py:524: RuntimeWarning: More than 20 figures have been opened. Figures created through the pyplot interface (`matplotlib.pyplot.figure`) are retained until explicitly closed and may consume too much memory. (To control this warning, see the rcParam `figure.max_open_warning`).\n",
      "  max_open_warning, RuntimeWarning)\n"
     ]
    },
    {
     "name": "stdout",
     "output_type": "stream",
     "text": [
      "[ 0.14444444  0.04444444  0.06666667  0.07777778  0.06666667  0.15555556\n",
      "  0.08888889  0.08888889  0.07777778  0.02222222  0.07777778  0.03333333\n",
      "  0.03333333  0.01111111  0.01111111  0.          0.          0.          0.\n",
      "  0.        ]\n",
      "[0.0, 0.05, 0.1, 0.15, 0.2, 0.25, 0.3, 0.35, 0.4, 0.45, 0.5, 0.55, 0.6, 0.65, 0.7, 0.75, 0.8, 0.85, 0.9, 0.95, 1.0]\n"
     ]
    },
    {
     "ename": "TypeError",
     "evalue": "can only concatenate list (not \"float\") to list",
     "output_type": "error",
     "traceback": [
      "\u001b[1;31m---------------------------------------------------------------------------\u001b[0m",
      "\u001b[1;31mTypeError\u001b[0m                                 Traceback (most recent call last)",
      "\u001b[1;32m<ipython-input-212-502ee6842f38>\u001b[0m in \u001b[0;36m<module>\u001b[1;34m()\u001b[0m\n\u001b[0;32m     32\u001b[0m     \u001b[0mprint\u001b[0m\u001b[1;33m(\u001b[0m\u001b[0mnp\u001b[0m\u001b[1;33m.\u001b[0m\u001b[0marray\u001b[0m\u001b[1;33m(\u001b[0m\u001b[1;33m[\u001b[0m\u001b[0mj\u001b[0m\u001b[1;33m/\u001b[0m\u001b[0msum\u001b[0m\u001b[1;33m(\u001b[0m\u001b[0mavg_out\u001b[0m\u001b[1;33m[\u001b[0m\u001b[0mi\u001b[0m\u001b[1;33m]\u001b[0m\u001b[1;33m)\u001b[0m \u001b[1;32mfor\u001b[0m \u001b[0mj\u001b[0m \u001b[1;32min\u001b[0m \u001b[0mavg_out\u001b[0m\u001b[1;33m[\u001b[0m\u001b[0mi\u001b[0m\u001b[1;33m]\u001b[0m\u001b[1;33m]\u001b[0m\u001b[1;33m)\u001b[0m\u001b[1;33m)\u001b[0m\u001b[1;33m\u001b[0m\u001b[0m\n\u001b[0;32m     33\u001b[0m     \u001b[0mprint\u001b[0m\u001b[1;33m(\u001b[0m\u001b[0mx\u001b[0m\u001b[1;33m)\u001b[0m\u001b[1;33m\u001b[0m\u001b[0m\n\u001b[1;32m---> 34\u001b[1;33m     \u001b[0mplt\u001b[0m\u001b[1;33m.\u001b[0m\u001b[0mbar\u001b[0m\u001b[1;33m(\u001b[0m\u001b[0mx\u001b[0m\u001b[1;33m+\u001b[0m\u001b[1;33m(\u001b[0m\u001b[0mx\u001b[0m\u001b[1;33m[\u001b[0m\u001b[1;36m1\u001b[0m\u001b[1;33m]\u001b[0m\u001b[1;33m-\u001b[0m\u001b[0mx\u001b[0m\u001b[1;33m[\u001b[0m\u001b[1;36m0\u001b[0m\u001b[1;33m]\u001b[0m\u001b[1;33m)\u001b[0m\u001b[1;33m/\u001b[0m\u001b[1;36m2\u001b[0m\u001b[1;33m,\u001b[0m\u001b[0mnp\u001b[0m\u001b[1;33m.\u001b[0m\u001b[0marray\u001b[0m\u001b[1;33m(\u001b[0m\u001b[1;33m[\u001b[0m\u001b[0mj\u001b[0m\u001b[1;33m/\u001b[0m\u001b[0msum\u001b[0m\u001b[1;33m(\u001b[0m\u001b[0mavg_out\u001b[0m\u001b[1;33m[\u001b[0m\u001b[0mi\u001b[0m\u001b[1;33m]\u001b[0m\u001b[1;33m)\u001b[0m \u001b[1;32mfor\u001b[0m \u001b[0mj\u001b[0m \u001b[1;32min\u001b[0m \u001b[0mavg_out\u001b[0m\u001b[1;33m[\u001b[0m\u001b[0mi\u001b[0m\u001b[1;33m]\u001b[0m\u001b[1;33m]\u001b[0m\u001b[1;33m)\u001b[0m\u001b[1;33m,\u001b[0m\u001b[0mwidth\u001b[0m\u001b[1;33m=\u001b[0m\u001b[1;33m(\u001b[0m\u001b[0mx\u001b[0m\u001b[1;33m[\u001b[0m\u001b[1;36m1\u001b[0m\u001b[1;33m]\u001b[0m\u001b[1;33m-\u001b[0m\u001b[0mx\u001b[0m\u001b[1;33m[\u001b[0m\u001b[1;36m0\u001b[0m\u001b[1;33m]\u001b[0m\u001b[1;33m)\u001b[0m\u001b[1;33m)\u001b[0m\u001b[1;33m\u001b[0m\u001b[0m\n\u001b[0m\u001b[0;32m     35\u001b[0m \u001b[1;31m# print(np.sum(all_out[0:Parameters.REPS-1],axis=0))\u001b[0m\u001b[1;33m\u001b[0m\u001b[1;33m\u001b[0m\u001b[0m\n\u001b[0;32m     36\u001b[0m \u001b[1;31m# print(np.sum(all_out[Parameters.REPS:2*Parameters.REPS-1],axis=0))\u001b[0m\u001b[1;33m\u001b[0m\u001b[1;33m\u001b[0m\u001b[0m\n",
      "\u001b[1;31mTypeError\u001b[0m: can only concatenate list (not \"float\") to list"
     ]
    }
   ],
   "source": [
    "print('postprocessing')\n",
    "bins = 20\n",
    "all_out = []\n",
    "all_sf = []\n",
    "for result in results:\n",
    "    nTXs = result.nTXs\n",
    "    succes = result.succes\n",
    "    # nDevs = len([len([i for i in ue.reportArrival[0] if i]) for ue in UEs])\n",
    "    # nDevs = len(UEs)\n",
    "    outage = result.outage\n",
    "    # print(nDevs)\n",
    "\n",
    "\n",
    "    plt.subplots(figsize=(6,2))\n",
    "    SFs = result.SFs\n",
    "    x = [i-.5 for i in range(int(min(Parameters.lora.M)),2+int(max(Parameters.lora.M)))]\n",
    "    ySF,x = np.histogram(SFs,x,density = True) #\n",
    "    all_sf.append(ySF)\n",
    "\n",
    "    \n",
    "    plt.subplots(figsize=(6,2))\n",
    "    x = [i/(bins) for i in range(0,bins+1)]\n",
    "    yOut,x = np.histogram(outage,x) #\n",
    "    all_out.append(yOut)\n",
    "\n",
    "avg_out = []\n",
    "avg_sf = []\n",
    "x = [i/(bins) for i in range(0,bins+1)]\n",
    "fig, axs = plt.subplots(2,3)\n",
    "for i in range(0,int(np.ceil((len(results)-1)/Parameters.REPS))):\n",
    "    avg_out.append(np.sum(all_out[i*Parameters.REPS:(i+1)*Parameters.REPS-1],axis=0))\n",
    "    print(np.array([j/sum(avg_out[i]) for j in avg_out[i]]))\n",
    "    print(x)\n",
    "    plt.bar(x+(x[1]-x[0])/2,np.array([j/sum(avg_out[i]) for j in avg_out[i]]),width=(x[1]-x[0]))\n",
    "# print(np.sum(all_out[0:Parameters.REPS-1],axis=0))\n",
    "# print(np.sum(all_out[Parameters.REPS:2*Parameters.REPS-1],axis=0))\n",
    "# print(np.sum(all_out[2*Parameters.REPS:3*Parameters.REPS-1],axis=0))\n",
    "\n",
    "\n",
    "plt.show()\n",
    "\n",
    "#     ## Vizualize individual results\n",
    "#     plt.bar(x[0:-1]+.5,y,width=(x[1]-x[0]))\n",
    "#     plt.xlabel('Spreading factors')\n",
    "#     plt.ylabel('CDF')\n",
    "#     plt.show()\n",
    "#     plt.bar(x[0:-1]+(x[1]-x[0])/2,[i/sum(y) for i in y],width=(x[1]-x[0]))\n",
    "#     plt.xlabel('Outage')\n",
    "#     plt.ylabel('CDF')\n",
    "#     plt.show()\n",
    "#     fig, ax = plt.subplots(figsize=(4,4))\n",
    "#     centreCircle = plt.Circle((0,0),Parameters.system.cellRadius,color=\"k\",fill=False)\n",
    "#     ax.add_patch(centreCircle)\n",
    "#     plt.scatter(result.UEpos[0],result.UEpos[1])\n",
    "#     plt.scatter(result.APpos[0],result.APpos[1])\n",
    "#     plt.xlabel('X-coordinate [m]')\n",
    "#     plt.ylabel('Y-coordinate [m]')\n",
    "#     plt.show()\n"
   ]
  },
  {
   "cell_type": "code",
   "execution_count": 175,
   "metadata": {},
   "outputs": [
    {
     "data": {
      "text/plain": [
       "array([4, 6, 8])"
      ]
     },
     "execution_count": 175,
     "metadata": {},
     "output_type": "execute_result"
    }
   ],
   "source": [
    "a = []\n",
    "a.append([1,2,3])\n",
    "a.append([3,4,5])\n",
    "\n",
    "np.sum(a,axis=0)"
   ]
  }
 ],
 "metadata": {
  "kernelspec": {
   "display_name": "Python 3",
   "language": "python",
   "name": "python3"
  },
  "language_info": {
   "codemirror_mode": {
    "name": "ipython",
    "version": 3
   },
   "file_extension": ".py",
   "mimetype": "text/x-python",
   "name": "python",
   "nbconvert_exporter": "python",
   "pygments_lexer": "ipython3",
   "version": "3.8.3"
  }
 },
 "nbformat": 4,
 "nbformat_minor": 2
}
